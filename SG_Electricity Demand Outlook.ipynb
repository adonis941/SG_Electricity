{
 "cells": [
  {
   "cell_type": "code",
   "execution_count": 6,
   "metadata": {},
   "outputs": [
    {
     "name": "stdout",
     "output_type": "stream",
     "text": [
      "Collecting openpyxlNote: you may need to restart the kernel to use updated packages.\n",
      "\n",
      "  Downloading openpyxl-3.0.10-py2.py3-none-any.whl (242 kB)\n",
      "Collecting et-xmlfile\n",
      "  Downloading et_xmlfile-1.1.0-py3-none-any.whl (4.7 kB)\n",
      "Installing collected packages: et-xmlfile, openpyxl\n",
      "Successfully installed et-xmlfile-1.1.0 openpyxl-3.0.10\n"
     ]
    }
   ],
   "source": [
    "import pandas as pd\n",
    "import matplotlib.pyplot as plt\n",
    "import seaborn as sns\n",
    "import numpy as np\n",
    "%matplotlib inline\n",
    "%pip install openpyxl\n",
    "\n",
    "#importing necessary libraries"
   ]
  },
  {
   "attachments": {},
   "cell_type": "markdown",
   "metadata": {},
   "source": [
    "### Importing relevant dataset (taken from EMA Energy Statistics)"
   ]
  },
  {
   "cell_type": "code",
   "execution_count": 9,
   "metadata": {},
   "outputs": [
    {
     "data": {
      "text/html": [
       "<div>\n",
       "<style scoped>\n",
       "    .dataframe tbody tr th:only-of-type {\n",
       "        vertical-align: middle;\n",
       "    }\n",
       "\n",
       "    .dataframe tbody tr th {\n",
       "        vertical-align: top;\n",
       "    }\n",
       "\n",
       "    .dataframe thead th {\n",
       "        text-align: right;\n",
       "    }\n",
       "</style>\n",
       "<table border=\"1\" class=\"dataframe\">\n",
       "  <thead>\n",
       "    <tr style=\"text-align: right;\">\n",
       "      <th></th>\n",
       "      <th>year</th>\n",
       "      <th>sector</th>\n",
       "      <th>sub_sector</th>\n",
       "      <th>consumption_GWh</th>\n",
       "    </tr>\n",
       "  </thead>\n",
       "  <tbody>\n",
       "    <tr>\n",
       "      <th>0</th>\n",
       "      <td>2005</td>\n",
       "      <td>Commerce and Services-related</td>\n",
       "      <td>Accommodation and Food Services</td>\n",
       "      <td>1031.3</td>\n",
       "    </tr>\n",
       "    <tr>\n",
       "      <th>1</th>\n",
       "      <td>2005</td>\n",
       "      <td>Commerce and Services-related</td>\n",
       "      <td>Commerce and Services-related</td>\n",
       "      <td>13075.6</td>\n",
       "    </tr>\n",
       "    <tr>\n",
       "      <th>2</th>\n",
       "      <td>2005</td>\n",
       "      <td>Commerce and Services-related</td>\n",
       "      <td>Financial and Insurance Activities</td>\n",
       "      <td>1291.9</td>\n",
       "    </tr>\n",
       "    <tr>\n",
       "      <th>3</th>\n",
       "      <td>2005</td>\n",
       "      <td>Commerce and Services-related</td>\n",
       "      <td>Information and Communications</td>\n",
       "      <td>667.2</td>\n",
       "    </tr>\n",
       "    <tr>\n",
       "      <th>4</th>\n",
       "      <td>2005</td>\n",
       "      <td>Commerce and Services-related</td>\n",
       "      <td>Other Commerce and Services-related</td>\n",
       "      <td>3612.7</td>\n",
       "    </tr>\n",
       "    <tr>\n",
       "      <th>...</th>\n",
       "      <td>...</td>\n",
       "      <td>...</td>\n",
       "      <td>...</td>\n",
       "      <td>...</td>\n",
       "    </tr>\n",
       "    <tr>\n",
       "      <th>303</th>\n",
       "      <td>2020</td>\n",
       "      <td>Overall</td>\n",
       "      <td>Overall</td>\n",
       "      <td>50779.6</td>\n",
       "    </tr>\n",
       "    <tr>\n",
       "      <th>304</th>\n",
       "      <td>2021</td>\n",
       "      <td>Overall</td>\n",
       "      <td>Overall</td>\n",
       "      <td>53483.5</td>\n",
       "    </tr>\n",
       "    <tr>\n",
       "      <th>305</th>\n",
       "      <td>2022</td>\n",
       "      <td>Overall</td>\n",
       "      <td>Overall</td>\n",
       "      <td>26933.0</td>\n",
       "    </tr>\n",
       "    <tr>\n",
       "      <th>306</th>\n",
       "      <td>NaN</td>\n",
       "      <td>NaN</td>\n",
       "      <td>NaN</td>\n",
       "      <td>NaN</td>\n",
       "    </tr>\n",
       "    <tr>\n",
       "      <th>307</th>\n",
       "      <td>Data for 2022 is as at Jun 2022.</td>\n",
       "      <td>NaN</td>\n",
       "      <td>NaN</td>\n",
       "      <td>NaN</td>\n",
       "    </tr>\n",
       "  </tbody>\n",
       "</table>\n",
       "<p>308 rows × 4 columns</p>\n",
       "</div>"
      ],
      "text/plain": [
       "                                 year                         sector  \\\n",
       "0                                2005  Commerce and Services-related   \n",
       "1                                2005  Commerce and Services-related   \n",
       "2                                2005  Commerce and Services-related   \n",
       "3                                2005  Commerce and Services-related   \n",
       "4                                2005  Commerce and Services-related   \n",
       "..                                ...                            ...   \n",
       "303                              2020                        Overall   \n",
       "304                              2021                        Overall   \n",
       "305                              2022                        Overall   \n",
       "306                               NaN                            NaN   \n",
       "307  Data for 2022 is as at Jun 2022.                            NaN   \n",
       "\n",
       "                              sub_sector  consumption_GWh  \n",
       "0        Accommodation and Food Services           1031.3  \n",
       "1          Commerce and Services-related          13075.6  \n",
       "2     Financial and Insurance Activities           1291.9  \n",
       "3         Information and Communications            667.2  \n",
       "4    Other Commerce and Services-related           3612.7  \n",
       "..                                   ...              ...  \n",
       "303                              Overall          50779.6  \n",
       "304                              Overall          53483.5  \n",
       "305                              Overall          26933.0  \n",
       "306                                  NaN              NaN  \n",
       "307                                  NaN              NaN  \n",
       "\n",
       "[308 rows x 4 columns]"
      ]
     },
     "execution_count": 9,
     "metadata": {},
     "output_type": "execute_result"
    }
   ],
   "source": [
    "energy_load_by_sector = pd.read_excel('Electricity Consumption by Sub-Sector (Total).xlsx')\n",
    "energy_load_by_sector"
   ]
  },
  {
   "attachments": {},
   "cell_type": "markdown",
   "metadata": {},
   "source": [
    "### Data cleaning of null/duplicated values"
   ]
  },
  {
   "cell_type": "code",
   "execution_count": 12,
   "metadata": {},
   "outputs": [
    {
     "data": {
      "text/plain": [
       "year               1\n",
       "sector             2\n",
       "sub_sector         2\n",
       "consumption_GWh    2\n",
       "dtype: int64"
      ]
     },
     "execution_count": 12,
     "metadata": {},
     "output_type": "execute_result"
    }
   ],
   "source": [
    "energy_load_by_sector.isnull().sum()"
   ]
  },
  {
   "cell_type": "code",
   "execution_count": 13,
   "metadata": {},
   "outputs": [
    {
     "data": {
      "text/plain": [
       "0"
      ]
     },
     "execution_count": 13,
     "metadata": {},
     "output_type": "execute_result"
    }
   ],
   "source": [
    "energy_load_by_sector.duplicated().sum()"
   ]
  },
  {
   "cell_type": "code",
   "execution_count": 14,
   "metadata": {},
   "outputs": [
    {
     "data": {
      "text/html": [
       "<div>\n",
       "<style scoped>\n",
       "    .dataframe tbody tr th:only-of-type {\n",
       "        vertical-align: middle;\n",
       "    }\n",
       "\n",
       "    .dataframe tbody tr th {\n",
       "        vertical-align: top;\n",
       "    }\n",
       "\n",
       "    .dataframe thead th {\n",
       "        text-align: right;\n",
       "    }\n",
       "</style>\n",
       "<table border=\"1\" class=\"dataframe\">\n",
       "  <thead>\n",
       "    <tr style=\"text-align: right;\">\n",
       "      <th></th>\n",
       "      <th>year</th>\n",
       "      <th>sector</th>\n",
       "      <th>sub_sector</th>\n",
       "      <th>consumption_GWh</th>\n",
       "    </tr>\n",
       "  </thead>\n",
       "  <tbody>\n",
       "    <tr>\n",
       "      <th>0</th>\n",
       "      <td>2005</td>\n",
       "      <td>Commerce and Services-related</td>\n",
       "      <td>Accommodation and Food Services</td>\n",
       "      <td>1031.3</td>\n",
       "    </tr>\n",
       "    <tr>\n",
       "      <th>1</th>\n",
       "      <td>2005</td>\n",
       "      <td>Commerce and Services-related</td>\n",
       "      <td>Commerce and Services-related</td>\n",
       "      <td>13075.6</td>\n",
       "    </tr>\n",
       "    <tr>\n",
       "      <th>2</th>\n",
       "      <td>2005</td>\n",
       "      <td>Commerce and Services-related</td>\n",
       "      <td>Financial and Insurance Activities</td>\n",
       "      <td>1291.9</td>\n",
       "    </tr>\n",
       "    <tr>\n",
       "      <th>3</th>\n",
       "      <td>2005</td>\n",
       "      <td>Commerce and Services-related</td>\n",
       "      <td>Information and Communications</td>\n",
       "      <td>667.2</td>\n",
       "    </tr>\n",
       "    <tr>\n",
       "      <th>4</th>\n",
       "      <td>2005</td>\n",
       "      <td>Commerce and Services-related</td>\n",
       "      <td>Other Commerce and Services-related</td>\n",
       "      <td>3612.7</td>\n",
       "    </tr>\n",
       "    <tr>\n",
       "      <th>...</th>\n",
       "      <td>...</td>\n",
       "      <td>...</td>\n",
       "      <td>...</td>\n",
       "      <td>...</td>\n",
       "    </tr>\n",
       "    <tr>\n",
       "      <th>301</th>\n",
       "      <td>2018</td>\n",
       "      <td>Overall</td>\n",
       "      <td>Overall</td>\n",
       "      <td>50460.9</td>\n",
       "    </tr>\n",
       "    <tr>\n",
       "      <th>302</th>\n",
       "      <td>2019</td>\n",
       "      <td>Overall</td>\n",
       "      <td>Overall</td>\n",
       "      <td>51730.1</td>\n",
       "    </tr>\n",
       "    <tr>\n",
       "      <th>303</th>\n",
       "      <td>2020</td>\n",
       "      <td>Overall</td>\n",
       "      <td>Overall</td>\n",
       "      <td>50779.6</td>\n",
       "    </tr>\n",
       "    <tr>\n",
       "      <th>304</th>\n",
       "      <td>2021</td>\n",
       "      <td>Overall</td>\n",
       "      <td>Overall</td>\n",
       "      <td>53483.5</td>\n",
       "    </tr>\n",
       "    <tr>\n",
       "      <th>305</th>\n",
       "      <td>2022</td>\n",
       "      <td>Overall</td>\n",
       "      <td>Overall</td>\n",
       "      <td>26933.0</td>\n",
       "    </tr>\n",
       "  </tbody>\n",
       "</table>\n",
       "<p>306 rows × 4 columns</p>\n",
       "</div>"
      ],
      "text/plain": [
       "     year                         sector                           sub_sector  \\\n",
       "0    2005  Commerce and Services-related      Accommodation and Food Services   \n",
       "1    2005  Commerce and Services-related        Commerce and Services-related   \n",
       "2    2005  Commerce and Services-related   Financial and Insurance Activities   \n",
       "3    2005  Commerce and Services-related       Information and Communications   \n",
       "4    2005  Commerce and Services-related  Other Commerce and Services-related   \n",
       "..    ...                            ...                                  ...   \n",
       "301  2018                        Overall                              Overall   \n",
       "302  2019                        Overall                              Overall   \n",
       "303  2020                        Overall                              Overall   \n",
       "304  2021                        Overall                              Overall   \n",
       "305  2022                        Overall                              Overall   \n",
       "\n",
       "     consumption_GWh  \n",
       "0             1031.3  \n",
       "1            13075.6  \n",
       "2             1291.9  \n",
       "3              667.2  \n",
       "4             3612.7  \n",
       "..               ...  \n",
       "301          50460.9  \n",
       "302          51730.1  \n",
       "303          50779.6  \n",
       "304          53483.5  \n",
       "305          26933.0  \n",
       "\n",
       "[306 rows x 4 columns]"
      ]
     },
     "execution_count": 14,
     "metadata": {},
     "output_type": "execute_result"
    }
   ],
   "source": [
    "energy_load_by_sector.dropna(thresh=4,inplace=True)\n",
    "energy_load_by_sector"
   ]
  },
  {
   "cell_type": "code",
   "execution_count": 15,
   "metadata": {},
   "outputs": [
    {
     "data": {
      "text/plain": [
       "array(['Commerce and Services-related', 'Households',\n",
       "       'Industrial-related', 'Others', 'Transport-Related', 'Overall'],\n",
       "      dtype=object)"
      ]
     },
     "execution_count": 15,
     "metadata": {},
     "output_type": "execute_result"
    }
   ],
   "source": [
    "energy_load_by_sector.sector.unique()"
   ]
  },
  {
   "attachments": {},
   "cell_type": "markdown",
   "metadata": {},
   "source": [
    "### Splitting the dataset by sector for easier analysis"
   ]
  },
  {
   "cell_type": "code",
   "execution_count": 17,
   "metadata": {},
   "outputs": [
    {
     "data": {
      "text/html": [
       "<div>\n",
       "<style scoped>\n",
       "    .dataframe tbody tr th:only-of-type {\n",
       "        vertical-align: middle;\n",
       "    }\n",
       "\n",
       "    .dataframe tbody tr th {\n",
       "        vertical-align: top;\n",
       "    }\n",
       "\n",
       "    .dataframe thead th {\n",
       "        text-align: right;\n",
       "    }\n",
       "</style>\n",
       "<table border=\"1\" class=\"dataframe\">\n",
       "  <thead>\n",
       "    <tr style=\"text-align: right;\">\n",
       "      <th></th>\n",
       "      <th>year</th>\n",
       "      <th>sector</th>\n",
       "      <th>sub_sector</th>\n",
       "      <th>consumption_GWh</th>\n",
       "    </tr>\n",
       "  </thead>\n",
       "  <tbody>\n",
       "    <tr>\n",
       "      <th>0</th>\n",
       "      <td>2005</td>\n",
       "      <td>Commerce and Services-related</td>\n",
       "      <td>Accommodation and Food Services</td>\n",
       "      <td>1031.3</td>\n",
       "    </tr>\n",
       "    <tr>\n",
       "      <th>1</th>\n",
       "      <td>2005</td>\n",
       "      <td>Commerce and Services-related</td>\n",
       "      <td>Commerce and Services-related</td>\n",
       "      <td>13075.6</td>\n",
       "    </tr>\n",
       "    <tr>\n",
       "      <th>2</th>\n",
       "      <td>2005</td>\n",
       "      <td>Commerce and Services-related</td>\n",
       "      <td>Financial and Insurance Activities</td>\n",
       "      <td>1291.9</td>\n",
       "    </tr>\n",
       "    <tr>\n",
       "      <th>3</th>\n",
       "      <td>2005</td>\n",
       "      <td>Commerce and Services-related</td>\n",
       "      <td>Information and Communications</td>\n",
       "      <td>667.2</td>\n",
       "    </tr>\n",
       "    <tr>\n",
       "      <th>4</th>\n",
       "      <td>2005</td>\n",
       "      <td>Commerce and Services-related</td>\n",
       "      <td>Other Commerce and Services-related</td>\n",
       "      <td>3612.7</td>\n",
       "    </tr>\n",
       "    <tr>\n",
       "      <th>...</th>\n",
       "      <td>...</td>\n",
       "      <td>...</td>\n",
       "      <td>...</td>\n",
       "      <td>...</td>\n",
       "    </tr>\n",
       "    <tr>\n",
       "      <th>275</th>\n",
       "      <td>2022</td>\n",
       "      <td>Commerce and Services-related</td>\n",
       "      <td>Information and Communications</td>\n",
       "      <td>2310.3</td>\n",
       "    </tr>\n",
       "    <tr>\n",
       "      <th>276</th>\n",
       "      <td>2022</td>\n",
       "      <td>Commerce and Services-related</td>\n",
       "      <td>Other Commerce and Services-related</td>\n",
       "      <td>2278.3</td>\n",
       "    </tr>\n",
       "    <tr>\n",
       "      <th>277</th>\n",
       "      <td>2022</td>\n",
       "      <td>Commerce and Services-related</td>\n",
       "      <td>Professional, Scientific &amp; Technical, Administ...</td>\n",
       "      <td>438.9</td>\n",
       "    </tr>\n",
       "    <tr>\n",
       "      <th>278</th>\n",
       "      <td>2022</td>\n",
       "      <td>Commerce and Services-related</td>\n",
       "      <td>Real Estate Activities</td>\n",
       "      <td>2246.2</td>\n",
       "    </tr>\n",
       "    <tr>\n",
       "      <th>279</th>\n",
       "      <td>2022</td>\n",
       "      <td>Commerce and Services-related</td>\n",
       "      <td>Wholesale and Retail Trade</td>\n",
       "      <td>1130.4</td>\n",
       "    </tr>\n",
       "  </tbody>\n",
       "</table>\n",
       "<p>144 rows × 4 columns</p>\n",
       "</div>"
      ],
      "text/plain": [
       "     year                         sector  \\\n",
       "0    2005  Commerce and Services-related   \n",
       "1    2005  Commerce and Services-related   \n",
       "2    2005  Commerce and Services-related   \n",
       "3    2005  Commerce and Services-related   \n",
       "4    2005  Commerce and Services-related   \n",
       "..    ...                            ...   \n",
       "275  2022  Commerce and Services-related   \n",
       "276  2022  Commerce and Services-related   \n",
       "277  2022  Commerce and Services-related   \n",
       "278  2022  Commerce and Services-related   \n",
       "279  2022  Commerce and Services-related   \n",
       "\n",
       "                                            sub_sector  consumption_GWh  \n",
       "0                      Accommodation and Food Services           1031.3  \n",
       "1                        Commerce and Services-related          13075.6  \n",
       "2                   Financial and Insurance Activities           1291.9  \n",
       "3                       Information and Communications            667.2  \n",
       "4                  Other Commerce and Services-related           3612.7  \n",
       "..                                                 ...              ...  \n",
       "275                     Information and Communications           2310.3  \n",
       "276                Other Commerce and Services-related           2278.3  \n",
       "277  Professional, Scientific & Technical, Administ...            438.9  \n",
       "278                             Real Estate Activities           2246.2  \n",
       "279                         Wholesale and Retail Trade           1130.4  \n",
       "\n",
       "[144 rows x 4 columns]"
      ]
     },
     "execution_count": 17,
     "metadata": {},
     "output_type": "execute_result"
    }
   ],
   "source": [
    "commerce_service_energy_load = energy_load_by_sector.loc[(energy_load_by_sector['sector'] == 'Commerce and Services-related')]\n",
    "commerce_service_energy_load"
   ]
  },
  {
   "cell_type": "code",
   "execution_count": 840,
   "metadata": {},
   "outputs": [],
   "source": [
    "households_energy_load = energy_load_by_sector.loc[(energy_load_by_sector['sector'] == 'Households')]\n",
    "industrial_energy_load = energy_load_by_sector.loc[(energy_load_by_sector['sector'] == 'Industrial-related')]\n",
    "transport_energy_load = energy_load_by_sector.loc[(energy_load_by_sector['sector'] == 'Transport-Related')]\n",
    "others_energy_load = energy_load_by_sector.loc[(energy_load_by_sector['sector'] == 'Others')]\n",
    "overall_energy_load = energy_load_by_sector.loc[(energy_load_by_sector['sector'] == 'Overall')]"
   ]
  },
  {
   "cell_type": "code",
   "execution_count": 23,
   "metadata": {},
   "outputs": [
    {
     "data": {
      "text/html": [
       "<div>\n",
       "<style scoped>\n",
       "    .dataframe tbody tr th:only-of-type {\n",
       "        vertical-align: middle;\n",
       "    }\n",
       "\n",
       "    .dataframe tbody tr th {\n",
       "        vertical-align: top;\n",
       "    }\n",
       "\n",
       "    .dataframe thead th {\n",
       "        text-align: right;\n",
       "    }\n",
       "</style>\n",
       "<table border=\"1\" class=\"dataframe\">\n",
       "  <thead>\n",
       "    <tr style=\"text-align: right;\">\n",
       "      <th></th>\n",
       "      <th>year</th>\n",
       "      <th>sector</th>\n",
       "      <th>sub_sector</th>\n",
       "      <th>consumption_GWh</th>\n",
       "    </tr>\n",
       "  </thead>\n",
       "  <tbody>\n",
       "    <tr>\n",
       "      <th>0</th>\n",
       "      <td>2005</td>\n",
       "      <td>Commerce and Services-related</td>\n",
       "      <td>Accommodation and Food Services</td>\n",
       "      <td>1031.3</td>\n",
       "    </tr>\n",
       "    <tr>\n",
       "      <th>1</th>\n",
       "      <td>2005</td>\n",
       "      <td>Commerce and Services-related</td>\n",
       "      <td>Commerce and Services-related</td>\n",
       "      <td>13075.6</td>\n",
       "    </tr>\n",
       "    <tr>\n",
       "      <th>2</th>\n",
       "      <td>2005</td>\n",
       "      <td>Commerce and Services-related</td>\n",
       "      <td>Financial and Insurance Activities</td>\n",
       "      <td>1291.9</td>\n",
       "    </tr>\n",
       "    <tr>\n",
       "      <th>3</th>\n",
       "      <td>2005</td>\n",
       "      <td>Commerce and Services-related</td>\n",
       "      <td>Information and Communications</td>\n",
       "      <td>667.2</td>\n",
       "    </tr>\n",
       "    <tr>\n",
       "      <th>4</th>\n",
       "      <td>2005</td>\n",
       "      <td>Commerce and Services-related</td>\n",
       "      <td>Other Commerce and Services-related</td>\n",
       "      <td>3612.7</td>\n",
       "    </tr>\n",
       "    <tr>\n",
       "      <th>...</th>\n",
       "      <td>...</td>\n",
       "      <td>...</td>\n",
       "      <td>...</td>\n",
       "      <td>...</td>\n",
       "    </tr>\n",
       "    <tr>\n",
       "      <th>283</th>\n",
       "      <td>2022</td>\n",
       "      <td>Industrial-related</td>\n",
       "      <td>Manufacturing</td>\n",
       "      <td>10230.7</td>\n",
       "    </tr>\n",
       "    <tr>\n",
       "      <th>284</th>\n",
       "      <td>2022</td>\n",
       "      <td>Industrial-related</td>\n",
       "      <td>Other Industrial-related</td>\n",
       "      <td>27.6</td>\n",
       "    </tr>\n",
       "    <tr>\n",
       "      <th>285</th>\n",
       "      <td>2022</td>\n",
       "      <td>Industrial-related</td>\n",
       "      <td>Utilities</td>\n",
       "      <td>681.1</td>\n",
       "    </tr>\n",
       "    <tr>\n",
       "      <th>286</th>\n",
       "      <td>2022</td>\n",
       "      <td>Others</td>\n",
       "      <td>Others</td>\n",
       "      <td>101.7</td>\n",
       "    </tr>\n",
       "    <tr>\n",
       "      <th>287</th>\n",
       "      <td>2022</td>\n",
       "      <td>Transport-Related</td>\n",
       "      <td>Transport-related</td>\n",
       "      <td>1383.9</td>\n",
       "    </tr>\n",
       "  </tbody>\n",
       "</table>\n",
       "<p>288 rows × 4 columns</p>\n",
       "</div>"
      ],
      "text/plain": [
       "     year                         sector                           sub_sector  \\\n",
       "0    2005  Commerce and Services-related      Accommodation and Food Services   \n",
       "1    2005  Commerce and Services-related        Commerce and Services-related   \n",
       "2    2005  Commerce and Services-related   Financial and Insurance Activities   \n",
       "3    2005  Commerce and Services-related       Information and Communications   \n",
       "4    2005  Commerce and Services-related  Other Commerce and Services-related   \n",
       "..    ...                            ...                                  ...   \n",
       "283  2022             Industrial-related                        Manufacturing   \n",
       "284  2022             Industrial-related             Other Industrial-related   \n",
       "285  2022             Industrial-related                            Utilities   \n",
       "286  2022                         Others                               Others   \n",
       "287  2022              Transport-Related                    Transport-related   \n",
       "\n",
       "     consumption_GWh  \n",
       "0             1031.3  \n",
       "1            13075.6  \n",
       "2             1291.9  \n",
       "3              667.2  \n",
       "4             3612.7  \n",
       "..               ...  \n",
       "283          10230.7  \n",
       "284             27.6  \n",
       "285            681.1  \n",
       "286            101.7  \n",
       "287           1383.9  \n",
       "\n",
       "[288 rows x 4 columns]"
      ]
     },
     "execution_count": 23,
     "metadata": {},
     "output_type": "execute_result"
    }
   ],
   "source": [
    "energy_load_by_sector_excl_overall = energy_load_by_sector.loc[(energy_load_by_sector['sector'] != 'Overall')]\n",
    "energy_load_by_sector_excl_overall"
   ]
  },
  {
   "attachments": {},
   "cell_type": "markdown",
   "metadata": {},
   "source": [
    "### Identifying which sector(s) contribute most to electricity demand"
   ]
  },
  {
   "cell_type": "code",
   "execution_count": 99,
   "metadata": {},
   "outputs": [
    {
     "data": {
      "image/png": "[encoded data removed]",
      "text/plain": [
       "<Figure size 1080x1080 with 1 Axes>"
      ]
     },
     "metadata": {},
     "output_type": "display_data"
    }
   ],
   "source": [
    "\n",
    "grouped_energy_load = energy_load_by_sector_excl_overall.groupby('sector')['consumption_GWh'].sum()\n",
    "fig1, ax = plt.subplots(figsize=(15,15))\n",
    "grouped_energy_load.plot(kind = 'pie',y='consumption_GWh',autopct='%1.0f%%',title = 'Percentage of Electricity Consumption by Sector', ax=ax,textprops = {'fontsize':14})\n",
    "ax.set_ylabel('Energy Consumption in GWh')\n",
    "fig1.set_facecolor('white')\n",
    "\n",
    "#Historically, commerce & services and industrial-related sectors demand the most electricity."
   ]
  },
  {
   "cell_type": "code",
   "execution_count": 727,
   "metadata": {},
   "outputs": [
    {
     "name": "stdout",
     "output_type": "stream",
     "text": [
      "584843.3\n",
      "121872.59999999999\n",
      "658081.1\n",
      "39073.9\n",
      "5970.3\n",
      "752889.8\n"
     ]
    }
   ],
   "source": [
    "print(commerce_service_energy_load['consumption_GWh'].sum())\n",
    "print(households_energy_load['consumption_GWh'].sum())\n",
    "print(industrial_energy_load['consumption_GWh'].sum())\n",
    "print(transport_energy_load['consumption_GWh'].sum())\n",
    "print(others_energy_load['consumption_GWh'].sum())\n",
    "print(overall_energy_load['consumption_GWh'].sum())"
   ]
  },
  {
   "attachments": {},
   "cell_type": "markdown",
   "metadata": {},
   "source": [
    "### Delving deeper into the sectors which primarily drive electricity demand"
   ]
  },
  {
   "cell_type": "code",
   "execution_count": 152,
   "metadata": {},
   "outputs": [
    {
     "data": {
      "image/png": "[encoded data removed]",
      "text/plain": [
       "<Figure size 720x720 with 2 Axes>"
      ]
     },
     "metadata": {},
     "output_type": "display_data"
    }
   ],
   "source": [
    "grouped_commerce_energy_load = commerce_service_energy_load.groupby('sub_sector')['consumption_GWh'].sum()\n",
    "grouped_industrial_energy_load = industrial_energy_load.groupby('sub_sector')['consumption_GWh'].sum()\n",
    "fig2, [ax1,ax2] = plt.subplots(nrows=1,ncols=2,figsize=(10,10))\n",
    "grouped_commerce_energy_load.plot(kind = 'bar',y='consumption_GWh',ax=ax1)\n",
    "ax1.set_title('Commerce & Services Electricity Demand by Sub-Sector')\n",
    "ax1.set_ylabel('Electricity Consumption in GWh')\n",
    "grouped_industrial_energy_load.plot(kind = 'bar',y='consumption_GWh',color = 'orange',ax=ax2)\n",
    "ax2.set_title('Industrial Related Electricity Demand by Sub-Sector')\n",
    "fig2.set_facecolor('white')\n",
    "fig2.suptitle('Cumulative Electricity Demand of Commerce/Services & Industrial Sectors since 2005')\n",
    "fig2.tight_layout()\n",
    "\n"
   ]
  },
  {
   "attachments": {},
   "cell_type": "markdown",
   "metadata": {},
   "source": [
    "### Illustrating growth of key sectors responsible for driving electricity demand"
   ]
  },
  {
   "cell_type": "code",
   "execution_count": 83,
   "metadata": {},
   "outputs": [
    {
     "data": {
      "text/html": [
       "<div>\n",
       "<style scoped>\n",
       "    .dataframe tbody tr th:only-of-type {\n",
       "        vertical-align: middle;\n",
       "    }\n",
       "\n",
       "    .dataframe tbody tr th {\n",
       "        vertical-align: top;\n",
       "    }\n",
       "\n",
       "    .dataframe thead th {\n",
       "        text-align: right;\n",
       "    }\n",
       "</style>\n",
       "<table border=\"1\" class=\"dataframe\">\n",
       "  <thead>\n",
       "    <tr style=\"text-align: right;\">\n",
       "      <th>Data Series</th>\n",
       "      <th>GDP At Current Market Prices</th>\n",
       "      <th>Goods Producing Industries</th>\n",
       "      <th>Manufacturing</th>\n",
       "      <th>Construction</th>\n",
       "      <th>Utilities</th>\n",
       "      <th>Other Goods Industries</th>\n",
       "      <th>Services Producing Industries</th>\n",
       "      <th>Wholesale &amp; Retail Trade</th>\n",
       "      <th>Wholesale Trade</th>\n",
       "      <th>Retail Trade</th>\n",
       "      <th>...</th>\n",
       "      <th>Information &amp; Communications</th>\n",
       "      <th>Finance &amp; Insurance</th>\n",
       "      <th>Real Estate, Professional Services And Administrative &amp; Support Services</th>\n",
       "      <th>Real Estate</th>\n",
       "      <th>Professional Services</th>\n",
       "      <th>Administrative &amp; Support Services</th>\n",
       "      <th>Other Services Industries</th>\n",
       "      <th>Ownership Of Dwellings</th>\n",
       "      <th>Gross Value Added At Basic Prices</th>\n",
       "      <th>Add: Taxes On Products</th>\n",
       "    </tr>\n",
       "  </thead>\n",
       "  <tbody>\n",
       "    <tr>\n",
       "      <th>2005 1Q</th>\n",
       "      <td>50503.1</td>\n",
       "      <td>15536.9</td>\n",
       "      <td>13159.2</td>\n",
       "      <td>1553.5</td>\n",
       "      <td>794.2</td>\n",
       "      <td>30.0</td>\n",
       "      <td>30850.4</td>\n",
       "      <td>7661.6</td>\n",
       "      <td>6513.8</td>\n",
       "      <td>1147.8</td>\n",
       "      <td>...</td>\n",
       "      <td>1988.2</td>\n",
       "      <td>4583.9</td>\n",
       "      <td>5200.5</td>\n",
       "      <td>1545.1</td>\n",
       "      <td>2507.1</td>\n",
       "      <td>1148.3</td>\n",
       "      <td>5400.4</td>\n",
       "      <td>1529.1</td>\n",
       "      <td>47916.4</td>\n",
       "      <td>2586.7</td>\n",
       "    </tr>\n",
       "    <tr>\n",
       "      <th>2005 2Q</th>\n",
       "      <td>51193.3</td>\n",
       "      <td>16063.9</td>\n",
       "      <td>13862.6</td>\n",
       "      <td>1381.9</td>\n",
       "      <td>791.9</td>\n",
       "      <td>27.5</td>\n",
       "      <td>31319.4</td>\n",
       "      <td>8329.5</td>\n",
       "      <td>7228.9</td>\n",
       "      <td>1100.6</td>\n",
       "      <td>...</td>\n",
       "      <td>2002.2</td>\n",
       "      <td>4915.0</td>\n",
       "      <td>5353.0</td>\n",
       "      <td>1614.8</td>\n",
       "      <td>2550.2</td>\n",
       "      <td>1188.0</td>\n",
       "      <td>4705.5</td>\n",
       "      <td>1566.9</td>\n",
       "      <td>48950.2</td>\n",
       "      <td>2243.1</td>\n",
       "    </tr>\n",
       "    <tr>\n",
       "      <th>2005 3Q</th>\n",
       "      <td>53712.8</td>\n",
       "      <td>17113.8</td>\n",
       "      <td>14791.2</td>\n",
       "      <td>1485.6</td>\n",
       "      <td>807.5</td>\n",
       "      <td>29.5</td>\n",
       "      <td>32825.3</td>\n",
       "      <td>9080.8</td>\n",
       "      <td>7966.9</td>\n",
       "      <td>1113.9</td>\n",
       "      <td>...</td>\n",
       "      <td>2049.3</td>\n",
       "      <td>4931.3</td>\n",
       "      <td>5587.2</td>\n",
       "      <td>1738.0</td>\n",
       "      <td>2649.2</td>\n",
       "      <td>1200.0</td>\n",
       "      <td>5055.6</td>\n",
       "      <td>1610.9</td>\n",
       "      <td>51550.0</td>\n",
       "      <td>2162.8</td>\n",
       "    </tr>\n",
       "    <tr>\n",
       "      <th>2005 4Q</th>\n",
       "      <td>57313.8</td>\n",
       "      <td>18213.8</td>\n",
       "      <td>15785.5</td>\n",
       "      <td>1589.7</td>\n",
       "      <td>808.5</td>\n",
       "      <td>30.1</td>\n",
       "      <td>34985.5</td>\n",
       "      <td>9583.6</td>\n",
       "      <td>8360.6</td>\n",
       "      <td>1223.0</td>\n",
       "      <td>...</td>\n",
       "      <td>2092.9</td>\n",
       "      <td>5250.1</td>\n",
       "      <td>5874.1</td>\n",
       "      <td>1830.8</td>\n",
       "      <td>2809.6</td>\n",
       "      <td>1233.7</td>\n",
       "      <td>5656.8</td>\n",
       "      <td>1610.9</td>\n",
       "      <td>54810.2</td>\n",
       "      <td>2503.6</td>\n",
       "    </tr>\n",
       "    <tr>\n",
       "      <th>2006 1Q</th>\n",
       "      <td>55792.4</td>\n",
       "      <td>17042.8</td>\n",
       "      <td>14514.6</td>\n",
       "      <td>1597.5</td>\n",
       "      <td>900.2</td>\n",
       "      <td>30.5</td>\n",
       "      <td>34496.7</td>\n",
       "      <td>9245.9</td>\n",
       "      <td>8029.4</td>\n",
       "      <td>1216.5</td>\n",
       "      <td>...</td>\n",
       "      <td>2045.4</td>\n",
       "      <td>5488.5</td>\n",
       "      <td>5736.4</td>\n",
       "      <td>1672.9</td>\n",
       "      <td>2767.8</td>\n",
       "      <td>1295.7</td>\n",
       "      <td>5778.0</td>\n",
       "      <td>1731.8</td>\n",
       "      <td>53271.3</td>\n",
       "      <td>2521.1</td>\n",
       "    </tr>\n",
       "    <tr>\n",
       "      <th>...</th>\n",
       "      <td>...</td>\n",
       "      <td>...</td>\n",
       "      <td>...</td>\n",
       "      <td>...</td>\n",
       "      <td>...</td>\n",
       "      <td>...</td>\n",
       "      <td>...</td>\n",
       "      <td>...</td>\n",
       "      <td>...</td>\n",
       "      <td>...</td>\n",
       "      <td>...</td>\n",
       "      <td>...</td>\n",
       "      <td>...</td>\n",
       "      <td>...</td>\n",
       "      <td>...</td>\n",
       "      <td>...</td>\n",
       "      <td>...</td>\n",
       "      <td>...</td>\n",
       "      <td>...</td>\n",
       "      <td>...</td>\n",
       "      <td>...</td>\n",
       "    </tr>\n",
       "    <tr>\n",
       "      <th>2021 3Q</th>\n",
       "      <td>133636.1</td>\n",
       "      <td>34461.1</td>\n",
       "      <td>29237.0</td>\n",
       "      <td>3675.9</td>\n",
       "      <td>1501.7</td>\n",
       "      <td>46.5</td>\n",
       "      <td>86937.0</td>\n",
       "      <td>24298.0</td>\n",
       "      <td>22621.2</td>\n",
       "      <td>1676.8</td>\n",
       "      <td>...</td>\n",
       "      <td>7125.9</td>\n",
       "      <td>18207.5</td>\n",
       "      <td>15414.1</td>\n",
       "      <td>3638.8</td>\n",
       "      <td>7428.8</td>\n",
       "      <td>4346.5</td>\n",
       "      <td>12280.3</td>\n",
       "      <td>4730.8</td>\n",
       "      <td>126128.9</td>\n",
       "      <td>7507.2</td>\n",
       "    </tr>\n",
       "    <tr>\n",
       "      <th>2021 4Q</th>\n",
       "      <td>138514.8</td>\n",
       "      <td>31804.1</td>\n",
       "      <td>26379.2</td>\n",
       "      <td>3861.9</td>\n",
       "      <td>1514.9</td>\n",
       "      <td>48.1</td>\n",
       "      <td>93874.5</td>\n",
       "      <td>26390.3</td>\n",
       "      <td>24466.5</td>\n",
       "      <td>1923.8</td>\n",
       "      <td>...</td>\n",
       "      <td>7535.1</td>\n",
       "      <td>19086.3</td>\n",
       "      <td>16473.2</td>\n",
       "      <td>3833.0</td>\n",
       "      <td>7937.1</td>\n",
       "      <td>4703.1</td>\n",
       "      <td>13981.8</td>\n",
       "      <td>4776.5</td>\n",
       "      <td>130455.1</td>\n",
       "      <td>8059.7</td>\n",
       "    </tr>\n",
       "    <tr>\n",
       "      <th>2022 1Q</th>\n",
       "      <td>142766.8</td>\n",
       "      <td>35897.3</td>\n",
       "      <td>30192.8</td>\n",
       "      <td>4133.9</td>\n",
       "      <td>1528.6</td>\n",
       "      <td>42.0</td>\n",
       "      <td>94517.3</td>\n",
       "      <td>25163.2</td>\n",
       "      <td>23318.4</td>\n",
       "      <td>1844.8</td>\n",
       "      <td>...</td>\n",
       "      <td>7668.7</td>\n",
       "      <td>19223.0</td>\n",
       "      <td>16968.3</td>\n",
       "      <td>4085.1</td>\n",
       "      <td>7798.8</td>\n",
       "      <td>5084.4</td>\n",
       "      <td>15108.9</td>\n",
       "      <td>4946.6</td>\n",
       "      <td>135361.2</td>\n",
       "      <td>7405.6</td>\n",
       "    </tr>\n",
       "    <tr>\n",
       "      <th>2022 2Q</th>\n",
       "      <td>147178.7</td>\n",
       "      <td>37185.4</td>\n",
       "      <td>31484.0</td>\n",
       "      <td>3982.3</td>\n",
       "      <td>1675.8</td>\n",
       "      <td>43.3</td>\n",
       "      <td>97034.3</td>\n",
       "      <td>28232.4</td>\n",
       "      <td>26427.4</td>\n",
       "      <td>1805.0</td>\n",
       "      <td>...</td>\n",
       "      <td>7820.3</td>\n",
       "      <td>19611.0</td>\n",
       "      <td>17060.9</td>\n",
       "      <td>3989.8</td>\n",
       "      <td>8135.3</td>\n",
       "      <td>4935.8</td>\n",
       "      <td>12769.4</td>\n",
       "      <td>4946.7</td>\n",
       "      <td>139166.4</td>\n",
       "      <td>8012.3</td>\n",
       "    </tr>\n",
       "    <tr>\n",
       "      <th>2022 3Q</th>\n",
       "      <td>148024.4</td>\n",
       "      <td>36110.3</td>\n",
       "      <td>29957.3</td>\n",
       "      <td>4423.5</td>\n",
       "      <td>1681.0</td>\n",
       "      <td>48.5</td>\n",
       "      <td>98757.5</td>\n",
       "      <td>27263.4</td>\n",
       "      <td>25353.8</td>\n",
       "      <td>1909.6</td>\n",
       "      <td>...</td>\n",
       "      <td>7821.0</td>\n",
       "      <td>20294.8</td>\n",
       "      <td>17331.0</td>\n",
       "      <td>4185.8</td>\n",
       "      <td>8212.4</td>\n",
       "      <td>4932.8</td>\n",
       "      <td>13761.0</td>\n",
       "      <td>4981.7</td>\n",
       "      <td>139849.5</td>\n",
       "      <td>8174.9</td>\n",
       "    </tr>\n",
       "  </tbody>\n",
       "</table>\n",
       "<p>71 rows × 24 columns</p>\n",
       "</div>"
      ],
      "text/plain": [
       "Data Series GDP At Current Market Prices   Goods Producing Industries  \\\n",
       "2005 1Q                          50503.1                      15536.9   \n",
       "2005 2Q                          51193.3                      16063.9   \n",
       "2005 3Q                          53712.8                      17113.8   \n",
       "2005 4Q                          57313.8                      18213.8   \n",
       "2006 1Q                          55792.4                      17042.8   \n",
       "...                                  ...                          ...   \n",
       "2021 3Q                         133636.1                      34461.1   \n",
       "2021 4Q                         138514.8                      31804.1   \n",
       "2022 1Q                         142766.8                      35897.3   \n",
       "2022 2Q                         147178.7                      37185.4   \n",
       "2022 3Q                         148024.4                      36110.3   \n",
       "\n",
       "Data Series     Manufacturing     Construction     Utilities  \\\n",
       "2005 1Q               13159.2           1553.5         794.2   \n",
       "2005 2Q               13862.6           1381.9         791.9   \n",
       "2005 3Q               14791.2           1485.6         807.5   \n",
       "2005 4Q               15785.5           1589.7         808.5   \n",
       "2006 1Q               14514.6           1597.5         900.2   \n",
       "...                       ...              ...           ...   \n",
       "2021 3Q               29237.0           3675.9        1501.7   \n",
       "2021 4Q               26379.2           3861.9        1514.9   \n",
       "2022 1Q               30192.8           4133.9        1528.6   \n",
       "2022 2Q               31484.0           3982.3        1675.8   \n",
       "2022 3Q               29957.3           4423.5        1681.0   \n",
       "\n",
       "Data Series     Other Goods Industries   Services Producing Industries  \\\n",
       "2005 1Q                           30.0                         30850.4   \n",
       "2005 2Q                           27.5                         31319.4   \n",
       "2005 3Q                           29.5                         32825.3   \n",
       "2005 4Q                           30.1                         34985.5   \n",
       "2006 1Q                           30.5                         34496.7   \n",
       "...                                ...                             ...   \n",
       "2021 3Q                           46.5                         86937.0   \n",
       "2021 4Q                           48.1                         93874.5   \n",
       "2022 1Q                           42.0                         94517.3   \n",
       "2022 2Q                           43.3                         97034.3   \n",
       "2022 3Q                           48.5                         98757.5   \n",
       "\n",
       "Data Series     Wholesale & Retail Trade       Wholesale Trade  \\\n",
       "2005 1Q                           7661.6                6513.8   \n",
       "2005 2Q                           8329.5                7228.9   \n",
       "2005 3Q                           9080.8                7966.9   \n",
       "2005 4Q                           9583.6                8360.6   \n",
       "2006 1Q                           9245.9                8029.4   \n",
       "...                                  ...                   ...   \n",
       "2021 3Q                          24298.0               22621.2   \n",
       "2021 4Q                          26390.3               24466.5   \n",
       "2022 1Q                          25163.2               23318.4   \n",
       "2022 2Q                          28232.4               26427.4   \n",
       "2022 3Q                          27263.4               25353.8   \n",
       "\n",
       "Data Series       Retail Trade  ...     Information & Communications  \\\n",
       "2005 1Q                 1147.8  ...                           1988.2   \n",
       "2005 2Q                 1100.6  ...                           2002.2   \n",
       "2005 3Q                 1113.9  ...                           2049.3   \n",
       "2005 4Q                 1223.0  ...                           2092.9   \n",
       "2006 1Q                 1216.5  ...                           2045.4   \n",
       "...                        ...  ...                              ...   \n",
       "2021 3Q                 1676.8  ...                           7125.9   \n",
       "2021 4Q                 1923.8  ...                           7535.1   \n",
       "2022 1Q                 1844.8  ...                           7668.7   \n",
       "2022 2Q                 1805.0  ...                           7820.3   \n",
       "2022 3Q                 1909.6  ...                           7821.0   \n",
       "\n",
       "Data Series     Finance & Insurance  \\\n",
       "2005 1Q                      4583.9   \n",
       "2005 2Q                      4915.0   \n",
       "2005 3Q                      4931.3   \n",
       "2005 4Q                      5250.1   \n",
       "2006 1Q                      5488.5   \n",
       "...                             ...   \n",
       "2021 3Q                     18207.5   \n",
       "2021 4Q                     19086.3   \n",
       "2022 1Q                     19223.0   \n",
       "2022 2Q                     19611.0   \n",
       "2022 3Q                     20294.8   \n",
       "\n",
       "Data Series     Real Estate, Professional Services And Administrative & Support Services  \\\n",
       "2005 1Q                                                 5200.5                             \n",
       "2005 2Q                                                 5353.0                             \n",
       "2005 3Q                                                 5587.2                             \n",
       "2005 4Q                                                 5874.1                             \n",
       "2006 1Q                                                 5736.4                             \n",
       "...                                                        ...                             \n",
       "2021 3Q                                                15414.1                             \n",
       "2021 4Q                                                16473.2                             \n",
       "2022 1Q                                                16968.3                             \n",
       "2022 2Q                                                17060.9                             \n",
       "2022 3Q                                                17331.0                             \n",
       "\n",
       "Data Series       Real Estate       Professional Services  \\\n",
       "2005 1Q                1545.1                      2507.1   \n",
       "2005 2Q                1614.8                      2550.2   \n",
       "2005 3Q                1738.0                      2649.2   \n",
       "2005 4Q                1830.8                      2809.6   \n",
       "2006 1Q                1672.9                      2767.8   \n",
       "...                       ...                         ...   \n",
       "2021 3Q                3638.8                      7428.8   \n",
       "2021 4Q                3833.0                      7937.1   \n",
       "2022 1Q                4085.1                      7798.8   \n",
       "2022 2Q                3989.8                      8135.3   \n",
       "2022 3Q                4185.8                      8212.4   \n",
       "\n",
       "Data Series       Administrative & Support Services  \\\n",
       "2005 1Q                                      1148.3   \n",
       "2005 2Q                                      1188.0   \n",
       "2005 3Q                                      1200.0   \n",
       "2005 4Q                                      1233.7   \n",
       "2006 1Q                                      1295.7   \n",
       "...                                             ...   \n",
       "2021 3Q                                      4346.5   \n",
       "2021 4Q                                      4703.1   \n",
       "2022 1Q                                      5084.4   \n",
       "2022 2Q                                      4935.8   \n",
       "2022 3Q                                      4932.8   \n",
       "\n",
       "Data Series     Other Services Industries   Ownership Of Dwellings  \\\n",
       "2005 1Q                            5400.4                   1529.1   \n",
       "2005 2Q                            4705.5                   1566.9   \n",
       "2005 3Q                            5055.6                   1610.9   \n",
       "2005 4Q                            5656.8                   1610.9   \n",
       "2006 1Q                            5778.0                   1731.8   \n",
       "...                                   ...                      ...   \n",
       "2021 3Q                           12280.3                   4730.8   \n",
       "2021 4Q                           13981.8                   4776.5   \n",
       "2022 1Q                           15108.9                   4946.6   \n",
       "2022 2Q                           12769.4                   4946.7   \n",
       "2022 3Q                           13761.0                   4981.7   \n",
       "\n",
       "Data Series   Gross Value Added At Basic Prices   Add: Taxes On Products  \n",
       "2005 1Q                                 47916.4                   2586.7  \n",
       "2005 2Q                                 48950.2                   2243.1  \n",
       "2005 3Q                                 51550.0                   2162.8  \n",
       "2005 4Q                                 54810.2                   2503.6  \n",
       "2006 1Q                                 53271.3                   2521.1  \n",
       "...                                         ...                      ...  \n",
       "2021 3Q                                126128.9                   7507.2  \n",
       "2021 4Q                                130455.1                   8059.7  \n",
       "2022 1Q                                135361.2                   7405.6  \n",
       "2022 2Q                                139166.4                   8012.3  \n",
       "2022 3Q                                139849.5                   8174.9  \n",
       "\n",
       "[71 rows x 24 columns]"
      ]
     },
     "execution_count": 83,
     "metadata": {},
     "output_type": "execute_result"
    }
   ],
   "source": [
    "GDP_SG = pd.read_excel('GDP_SG.xlsx')\n",
    "GDP_SG = GDP_SG.T\n",
    "new_header = GDP_SG.iloc[0]\n",
    "GDP_SG = GDP_SG[1:]\n",
    "GDP_SG.columns = new_header\n",
    "GDP_SG = GDP_SG[::-1]\n",
    "GDP_SG"
   ]
  },
  {
   "cell_type": "code",
   "execution_count": 925,
   "metadata": {},
   "outputs": [
    {
     "data": {
      "image/png": "[encoded data removed]",
      "text/plain": [
       "<Figure size 1080x1080 with 1 Axes>"
      ]
     },
     "metadata": {},
     "output_type": "display_data"
    }
   ],
   "source": [
    "fig3, ax = plt.subplots(figsize = (15,15))\n",
    "GDP_SG['  Goods Producing Industries'].plot(ax=ax,marker = 'o')\n",
    "GDP_SG['GDP At Current Market Prices'].plot(ax=ax, color = 'red',marker = 'o')\n",
    "GDP_SG['  Services Producing Industries'].plot(ax=ax, color = 'purple',label='Commerce & Services',marker = 'o')\n",
    "ax.legend(loc=4)\n",
    "ax.set_xlabel('Time')\n",
    "ax.set_ylabel('Amount in Million Dollars')\n",
    "ax.set_title('Trend of GDP growth contributed by Commerce & Services and Industrial Manufacturing')\n",
    "fig3.set_facecolor('White')"
   ]
  },
  {
   "attachments": {},
   "cell_type": "markdown",
   "metadata": {},
   "source": [
    "### Illustrating the increase of electricity demand of above key sectors "
   ]
  },
  {
   "cell_type": "code",
   "execution_count": 926,
   "metadata": {},
   "outputs": [
    {
     "name": "stderr",
     "output_type": "stream",
     "text": [
      "C:\\Users\\USER\\AppData\\Local\\Temp\\ipykernel_9500\\2011373775.py:2: SettingWithCopyWarning: \n",
      "A value is trying to be set on a copy of a slice from a DataFrame\n",
      "\n",
      "See the caveats in the documentation: https://pandas.pydata.org/pandas-docs/stable/user_guide/indexing.html#returning-a-view-versus-a-copy\n",
      "  manufacturing_energy_load.replace(10230.7,20461.4,inplace=True) #for 2022, only data for first half of the year is available. It is assumed here that the electricity consumed in the 2nd half will be same as the first half\n",
      "C:\\Users\\USER\\AppData\\Local\\Temp\\ipykernel_9500\\2011373775.py:10: SettingWithCopyWarning: \n",
      "A value is trying to be set on a copy of a slice from a DataFrame\n",
      "\n",
      "See the caveats in the documentation: https://pandas.pydata.org/pandas-docs/stable/user_guide/indexing.html#returning-a-view-versus-a-copy\n",
      "  retail_ecommerce_energy_load.replace(10259.1,20518.2,inplace=True)\n",
      "C:\\Users\\USER\\AppData\\Local\\Temp\\ipykernel_9500\\2011373775.py:12: SettingWithCopyWarning: \n",
      "A value is trying to be set on a copy of a slice from a DataFrame\n",
      "\n",
      "See the caveats in the documentation: https://pandas.pydata.org/pandas-docs/stable/user_guide/indexing.html#returning-a-view-versus-a-copy\n",
      "  overall_energy_load.replace(26933,53866,inplace=True)\n",
      "c:\\Users\\USER\\anaconda3\\envs\\DS102\\lib\\site-packages\\pandas\\core\\indexes\\base.py:6982: FutureWarning: In a future version, the Index constructor will not infer numeric dtypes when passed object-dtype sequences (matching Series behavior)\n",
      "  return Index(sequences[0], name=names)\n"
     ]
    },
    {
     "data": {
      "image/png": "[encoded data removed]",
      "text/plain": [
       "<Figure size 1080x1080 with 1 Axes>"
      ]
     },
     "metadata": {},
     "output_type": "display_data"
    }
   ],
   "source": [
    "manufacturing_energy_load = industrial_energy_load.loc[(industrial_energy_load['sub_sector']=='Manufacturing')]\n",
    "manufacturing_energy_load.replace(10230.7,20461.4,inplace=True) #for 2022, only data for first half of the year is available. It is assumed here that the electricity consumed in the 2nd half will be same as the first half\n",
    "\n",
    "other_industrial_energy_load = industrial_energy_load.loc[(industrial_energy_load['sub_sector']!='Manufacturing')]\n",
    "other_industrial_annual_use = other_industrial_energy_load.groupby('year').sum()\n",
    "other_industrial_annual_use.reset_index(inplace=True)\n",
    "other_industrial_annual_use.replace(12098.9,24197.8,inplace=True)\n",
    "\n",
    "retail_ecommerce_energy_load= commerce_service_energy_load.loc[(commerce_service_energy_load['sub_sector']=='Commerce and Services-related')]\n",
    "retail_ecommerce_energy_load.replace(10259.1,20518.2,inplace=True)\n",
    "\n",
    "overall_energy_load.replace(26933,53866,inplace=True)\n",
    "\n",
    "fig4, ax = plt.subplots(figsize=(15,15))\n",
    "manufacturing_energy_load.plot(x='year',y='consumption_GWh',ax=ax,color='b',marker='o',label='Manufacturing')\n",
    "retail_ecommerce_energy_load.plot(x='year',y='consumption_GWh',ax=ax,color='purple',marker='o',label='Commerce & Services')\n",
    "overall_energy_load.plot(x='year',y='consumption_GWh',color='r',ax=ax,marker='o',label='Overall Electricity Use')\n",
    "other_industrial_annual_use.plot(x='year',y='consumption_GWh',color='green',ax=ax,marker='o',label='Other Industrial-Related')\n",
    "\n",
    "ax.set_xlabel('Year')\n",
    "ax.set_ylabel('Electricity consumption in GWh')\n",
    "ax.set_title('Electricity Consumption of Manufacturing and Commerce/Services')\n",
    "fig4.set_facecolor('White')\n"
   ]
  },
  {
   "attachments": {},
   "cell_type": "markdown",
   "metadata": {},
   "source": [
    "### Illustrating the trend between median income of Singaporean residents and household electricity consumption"
   ]
  },
  {
   "cell_type": "code",
   "execution_count": 549,
   "metadata": {},
   "outputs": [
    {
     "name": "stderr",
     "output_type": "stream",
     "text": [
      "C:\\Users\\USER\\AppData\\Local\\Temp\\ipykernel_9500\\3513865729.py:3: FutureWarning: The frame.append method is deprecated and will be removed from pandas in a future version. Use pandas.concat instead.\n",
      "  median_income = median_income.append(median_income_2022,ignore_index=True,)\n"
     ]
    },
    {
     "data": {
      "text/html": [
       "<div>\n",
       "<style scoped>\n",
       "    .dataframe tbody tr th:only-of-type {\n",
       "        vertical-align: middle;\n",
       "    }\n",
       "\n",
       "    .dataframe tbody tr th {\n",
       "        vertical-align: top;\n",
       "    }\n",
       "\n",
       "    .dataframe thead th {\n",
       "        text-align: right;\n",
       "    }\n",
       "</style>\n",
       "<table border=\"1\" class=\"dataframe\">\n",
       "  <thead>\n",
       "    <tr style=\"text-align: right;\">\n",
       "      <th></th>\n",
       "      <th>Year</th>\n",
       "      <th>Median Income</th>\n",
       "    </tr>\n",
       "  </thead>\n",
       "  <tbody>\n",
       "    <tr>\n",
       "      <th>0</th>\n",
       "      <td>2006</td>\n",
       "      <td>2449</td>\n",
       "    </tr>\n",
       "    <tr>\n",
       "      <th>1</th>\n",
       "      <td>2007</td>\n",
       "      <td>2543</td>\n",
       "    </tr>\n",
       "    <tr>\n",
       "      <th>2</th>\n",
       "      <td>2008</td>\n",
       "      <td>2897</td>\n",
       "    </tr>\n",
       "    <tr>\n",
       "      <th>3</th>\n",
       "      <td>2009</td>\n",
       "      <td>2927</td>\n",
       "    </tr>\n",
       "    <tr>\n",
       "      <th>4</th>\n",
       "      <td>2010</td>\n",
       "      <td>3000</td>\n",
       "    </tr>\n",
       "    <tr>\n",
       "      <th>5</th>\n",
       "      <td>2011</td>\n",
       "      <td>3249</td>\n",
       "    </tr>\n",
       "    <tr>\n",
       "      <th>6</th>\n",
       "      <td>2012</td>\n",
       "      <td>3480</td>\n",
       "    </tr>\n",
       "    <tr>\n",
       "      <th>7</th>\n",
       "      <td>2013</td>\n",
       "      <td>3705</td>\n",
       "    </tr>\n",
       "    <tr>\n",
       "      <th>8</th>\n",
       "      <td>2014</td>\n",
       "      <td>3770</td>\n",
       "    </tr>\n",
       "    <tr>\n",
       "      <th>9</th>\n",
       "      <td>2015</td>\n",
       "      <td>3949</td>\n",
       "    </tr>\n",
       "    <tr>\n",
       "      <th>10</th>\n",
       "      <td>2016</td>\n",
       "      <td>4056</td>\n",
       "    </tr>\n",
       "    <tr>\n",
       "      <th>11</th>\n",
       "      <td>2017</td>\n",
       "      <td>4232</td>\n",
       "    </tr>\n",
       "    <tr>\n",
       "      <th>12</th>\n",
       "      <td>2018</td>\n",
       "      <td>4437</td>\n",
       "    </tr>\n",
       "    <tr>\n",
       "      <th>13</th>\n",
       "      <td>2019</td>\n",
       "      <td>4563</td>\n",
       "    </tr>\n",
       "    <tr>\n",
       "      <th>14</th>\n",
       "      <td>2020</td>\n",
       "      <td>4534</td>\n",
       "    </tr>\n",
       "    <tr>\n",
       "      <th>15</th>\n",
       "      <td>2021</td>\n",
       "      <td>4680</td>\n",
       "    </tr>\n",
       "    <tr>\n",
       "      <th>16</th>\n",
       "      <td>2022</td>\n",
       "      <td>5070</td>\n",
       "    </tr>\n",
       "  </tbody>\n",
       "</table>\n",
       "</div>"
      ],
      "text/plain": [
       "    Year  Median Income\n",
       "0   2006           2449\n",
       "1   2007           2543\n",
       "2   2008           2897\n",
       "3   2009           2927\n",
       "4   2010           3000\n",
       "5   2011           3249\n",
       "6   2012           3480\n",
       "7   2013           3705\n",
       "8   2014           3770\n",
       "9   2015           3949\n",
       "10  2016           4056\n",
       "11  2017           4232\n",
       "12  2018           4437\n",
       "13  2019           4563\n",
       "14  2020           4534\n",
       "15  2021           4680\n",
       "16  2022           5070"
      ]
     },
     "execution_count": 549,
     "metadata": {},
     "output_type": "execute_result"
    }
   ],
   "source": [
    "median_income = pd.read_excel('Average Income of SG Residents (MOM).xlsx')\n",
    "median_income_2022 = {'Year':2022,'Median Income':5070}\n",
    "median_income = median_income.append(median_income_2022,ignore_index=True,)\n",
    "median_income"
   ]
  },
  {
   "cell_type": "code",
   "execution_count": 171,
   "metadata": {},
   "outputs": [
    {
     "data": {
      "text/html": [
       "<div>\n",
       "<style scoped>\n",
       "    .dataframe tbody tr th:only-of-type {\n",
       "        vertical-align: middle;\n",
       "    }\n",
       "\n",
       "    .dataframe tbody tr th {\n",
       "        vertical-align: top;\n",
       "    }\n",
       "\n",
       "    .dataframe thead th {\n",
       "        text-align: right;\n",
       "    }\n",
       "</style>\n",
       "<table border=\"1\" class=\"dataframe\">\n",
       "  <thead>\n",
       "    <tr style=\"text-align: right;\">\n",
       "      <th>Unnamed: 0</th>\n",
       "      <th>Data Series</th>\n",
       "      <th>&lt;60 Sq M</th>\n",
       "      <th>61-80 Sq M</th>\n",
       "      <th>81-100 Sq M</th>\n",
       "      <th>101-120 Sq M</th>\n",
       "      <th>&gt;120 Sq M</th>\n",
       "    </tr>\n",
       "  </thead>\n",
       "  <tbody>\n",
       "    <tr>\n",
       "      <th>Unnamed: 11</th>\n",
       "      <td>2011</td>\n",
       "      <td>84000</td>\n",
       "      <td>192700</td>\n",
       "      <td>240900</td>\n",
       "      <td>302100</td>\n",
       "      <td>318600</td>\n",
       "    </tr>\n",
       "    <tr>\n",
       "      <th>Unnamed: 10</th>\n",
       "      <td>2012</td>\n",
       "      <td>85000</td>\n",
       "      <td>178700</td>\n",
       "      <td>246600</td>\n",
       "      <td>311700</td>\n",
       "      <td>318700</td>\n",
       "    </tr>\n",
       "    <tr>\n",
       "      <th>Unnamed: 9</th>\n",
       "      <td>2013</td>\n",
       "      <td>92900</td>\n",
       "      <td>182200</td>\n",
       "      <td>258100</td>\n",
       "      <td>308200</td>\n",
       "      <td>325800</td>\n",
       "    </tr>\n",
       "    <tr>\n",
       "      <th>Unnamed: 8</th>\n",
       "      <td>2014</td>\n",
       "      <td>94100</td>\n",
       "      <td>185000</td>\n",
       "      <td>266500</td>\n",
       "      <td>317400</td>\n",
       "      <td>332100</td>\n",
       "    </tr>\n",
       "    <tr>\n",
       "      <th>Unnamed: 7</th>\n",
       "      <td>2015</td>\n",
       "      <td>104600</td>\n",
       "      <td>189700</td>\n",
       "      <td>276700</td>\n",
       "      <td>316500</td>\n",
       "      <td>331700</td>\n",
       "    </tr>\n",
       "    <tr>\n",
       "      <th>Unnamed: 6</th>\n",
       "      <td>2016</td>\n",
       "      <td>109200</td>\n",
       "      <td>202200</td>\n",
       "      <td>299100</td>\n",
       "      <td>325500</td>\n",
       "      <td>322800</td>\n",
       "    </tr>\n",
       "    <tr>\n",
       "      <th>Unnamed: 5</th>\n",
       "      <td>2017</td>\n",
       "      <td>114000</td>\n",
       "      <td>203100</td>\n",
       "      <td>307000</td>\n",
       "      <td>332600</td>\n",
       "      <td>328600</td>\n",
       "    </tr>\n",
       "    <tr>\n",
       "      <th>Unnamed: 4</th>\n",
       "      <td>2018</td>\n",
       "      <td>121700</td>\n",
       "      <td>210500</td>\n",
       "      <td>312800</td>\n",
       "      <td>344300</td>\n",
       "      <td>330700</td>\n",
       "    </tr>\n",
       "    <tr>\n",
       "      <th>Unnamed: 3</th>\n",
       "      <td>2019</td>\n",
       "      <td>124500</td>\n",
       "      <td>218400</td>\n",
       "      <td>336200</td>\n",
       "      <td>351400</td>\n",
       "      <td>338100</td>\n",
       "    </tr>\n",
       "    <tr>\n",
       "      <th>Unnamed: 2</th>\n",
       "      <td>2020</td>\n",
       "      <td>131400</td>\n",
       "      <td>221200</td>\n",
       "      <td>334800</td>\n",
       "      <td>347000</td>\n",
       "      <td>332500</td>\n",
       "    </tr>\n",
       "    <tr>\n",
       "      <th>Unnamed: 1</th>\n",
       "      <td>2021</td>\n",
       "      <td>136300</td>\n",
       "      <td>225400</td>\n",
       "      <td>342400</td>\n",
       "      <td>349400</td>\n",
       "      <td>332000</td>\n",
       "    </tr>\n",
       "  </tbody>\n",
       "</table>\n",
       "</div>"
      ],
      "text/plain": [
       "Unnamed: 0  Data Series <60 Sq M 61-80 Sq M 81-100 Sq M 101-120 Sq M >120 Sq M\n",
       "Unnamed: 11        2011    84000     192700      240900       302100    318600\n",
       "Unnamed: 10        2012    85000     178700      246600       311700    318700\n",
       "Unnamed: 9         2013    92900     182200      258100       308200    325800\n",
       "Unnamed: 8         2014    94100     185000      266500       317400    332100\n",
       "Unnamed: 7         2015   104600     189700      276700       316500    331700\n",
       "Unnamed: 6         2016   109200     202200      299100       325500    322800\n",
       "Unnamed: 5         2017   114000     203100      307000       332600    328600\n",
       "Unnamed: 4         2018   121700     210500      312800       344300    330700\n",
       "Unnamed: 3         2019   124500     218400      336200       351400    338100\n",
       "Unnamed: 2         2020   131400     221200      334800       347000    332500\n",
       "Unnamed: 1         2021   136300     225400      342400       349400    332000"
      ]
     },
     "execution_count": 171,
     "metadata": {},
     "output_type": "execute_result"
    }
   ],
   "source": [
    "households_by_floor_area = pd.read_excel(\"Resident Households by Floor Area Size.xlsx\")\n",
    "households_by_floor_area = households_by_floor_area.T\n",
    "new_header = households_by_floor_area.iloc[0]\n",
    "households_by_floor_area = households_by_floor_area[1:]\n",
    "households_by_floor_area.columns = new_header\n",
    "households_by_floor_area.rename({'Data Series':'Year'},inplace=True)\n",
    "households_by_floor_area = households_by_floor_area[::-1]\n",
    "households_by_floor_area\n"
   ]
  },
  {
   "cell_type": "code",
   "execution_count": 943,
   "metadata": {},
   "outputs": [
    {
     "name": "stderr",
     "output_type": "stream",
     "text": [
      "c:\\Users\\USER\\anaconda3\\envs\\DS102\\lib\\site-packages\\pandas\\core\\indexes\\base.py:6982: FutureWarning: In a future version, the Index constructor will not infer numeric dtypes when passed object-dtype sequences (matching Series behavior)\n",
      "  return Index(sequences[0], name=names)\n",
      "C:\\Users\\USER\\AppData\\Local\\Temp\\ipykernel_9500\\2342816484.py:18: SettingWithCopyWarning: \n",
      "A value is trying to be set on a copy of a slice from a DataFrame\n",
      "\n",
      "See the caveats in the documentation: https://pandas.pydata.org/pandas-docs/stable/user_guide/indexing.html#returning-a-view-versus-a-copy\n",
      "  households_energy_load.replace(4023.4,8046.8,inplace=True)\n"
     ]
    },
    {
     "data": {
      "image/png": "[encoded data removed]",
      "text/plain": [
       "<Figure size 1440x720 with 3 Axes>"
      ]
     },
     "metadata": {},
     "output_type": "display_data"
    }
   ],
   "source": [
    "fig5, [ax0,ax1,ax2] = plt.subplots(nrows=1,ncols=3,figsize=(20,10))\n",
    "households_by_floor_area.plot(x='Data Series',y = '>120 Sq M', color = 'b',marker = 'o',ax=ax0)\n",
    "households_by_floor_area.plot(x='Data Series',y = '101-120 Sq M', color = 'r',marker = 'o',ax=ax0)\n",
    "households_by_floor_area.plot(x='Data Series',y = '81-100 Sq M', color = 'g',marker = 'o',ax=ax0)\n",
    "households_by_floor_area.plot(x='Data Series',y = '61-80 Sq M', color = 'orange',marker = 'o',ax=ax0)\n",
    "households_by_floor_area.plot(x='Data Series',y = '<60 Sq M', color = 'purple',marker = 'o',ax=ax0)\n",
    "ax0.set_xlabel('Year')\n",
    "ax0.set_ylabel('Number of Households')\n",
    "ax0.set_title('Number of Households by Residence Floor Area Size')\n",
    "ax0.legend(loc=4)\n",
    "\n",
    "median_income.plot(x='Year',y='Median Income', marker = 'o',ax=ax1)\n",
    "ax1.set_xlabel('Year')\n",
    "ax1.set_ylabel('Median Income')\n",
    "ax1.get_legend().remove()\n",
    "ax1.set_title('Median Income of SG Residents')\n",
    "\n",
    "households_energy_load.replace(4023.4,8046.8,inplace=True)\n",
    "households_energy_load.plot(x='year',y='consumption_GWh',marker = 'o',ax=ax2,color='teal')\n",
    "ax2.set_ylabel('Electricity Consumption in GWh')\n",
    "ax2.set_xlabel('Year')\n",
    "ax2.set_title('Electricity Consumption of Households')\n",
    "ax2.get_legend().remove()\n",
    "fig5.set_facecolor('White')"
   ]
  },
  {
   "attachments": {},
   "cell_type": "markdown",
   "metadata": {},
   "source": [
    "### Building a predictive model "
   ]
  },
  {
   "attachments": {},
   "cell_type": "markdown",
   "metadata": {},
   "source": [
    "##### We have identified growth in manufacturing sector, growth in commerce & services sector and increasing population income as key drivers of electricity demand. Now we build a model to predict how these parameters will be in 2023 and use it to forecast how electricity demand will be in 2023"
   ]
  },
  {
   "attachments": {},
   "cell_type": "markdown",
   "metadata": {},
   "source": [
    "##### We will start to predict manufacturing growth via GDP contribution"
   ]
  },
  {
   "cell_type": "code",
   "execution_count": 195,
   "metadata": {},
   "outputs": [
    {
     "data": {
      "text/html": [
       "<div>\n",
       "<style scoped>\n",
       "    .dataframe tbody tr th:only-of-type {\n",
       "        vertical-align: middle;\n",
       "    }\n",
       "\n",
       "    .dataframe tbody tr th {\n",
       "        vertical-align: top;\n",
       "    }\n",
       "\n",
       "    .dataframe thead th {\n",
       "        text-align: right;\n",
       "    }\n",
       "</style>\n",
       "<table border=\"1\" class=\"dataframe\">\n",
       "  <thead>\n",
       "    <tr style=\"text-align: right;\">\n",
       "      <th>Data Series</th>\n",
       "      <th>GDP At Current Market Prices</th>\n",
       "      <th>Goods Producing Industries</th>\n",
       "      <th>Manufacturing</th>\n",
       "      <th>Construction</th>\n",
       "      <th>Utilities</th>\n",
       "      <th>Other Goods Industries</th>\n",
       "      <th>Services Producing Industries</th>\n",
       "      <th>Wholesale &amp; Retail Trade</th>\n",
       "      <th>Wholesale Trade</th>\n",
       "      <th>Retail Trade</th>\n",
       "      <th>...</th>\n",
       "      <th>Information &amp; Communications</th>\n",
       "      <th>Finance &amp; Insurance</th>\n",
       "      <th>Real Estate, Professional Services And Administrative &amp; Support Services</th>\n",
       "      <th>Real Estate</th>\n",
       "      <th>Professional Services</th>\n",
       "      <th>Administrative &amp; Support Services</th>\n",
       "      <th>Other Services Industries</th>\n",
       "      <th>Ownership Of Dwellings</th>\n",
       "      <th>Gross Value Added At Basic Prices</th>\n",
       "      <th>Add: Taxes On Products</th>\n",
       "    </tr>\n",
       "  </thead>\n",
       "  <tbody>\n",
       "    <tr>\n",
       "      <th>2005</th>\n",
       "      <td>212723.0</td>\n",
       "      <td>66928.4</td>\n",
       "      <td>57598.5</td>\n",
       "      <td>6010.7</td>\n",
       "      <td>3202.1</td>\n",
       "      <td>117.1</td>\n",
       "      <td>129980.6</td>\n",
       "      <td>34655.5</td>\n",
       "      <td>30070.2</td>\n",
       "      <td>4585.3</td>\n",
       "      <td>...</td>\n",
       "      <td>8132.6</td>\n",
       "      <td>19680.3</td>\n",
       "      <td>22014.8</td>\n",
       "      <td>6728.7</td>\n",
       "      <td>10516.1</td>\n",
       "      <td>4770.0</td>\n",
       "      <td>20818.3</td>\n",
       "      <td>6317.8</td>\n",
       "      <td>203226.8</td>\n",
       "      <td>9496.2</td>\n",
       "    </tr>\n",
       "    <tr>\n",
       "      <th>2006</th>\n",
       "      <td>236158.8</td>\n",
       "      <td>73075.0</td>\n",
       "      <td>62766.3</td>\n",
       "      <td>6485.3</td>\n",
       "      <td>3708.0</td>\n",
       "      <td>115.4</td>\n",
       "      <td>146200.2</td>\n",
       "      <td>42056.0</td>\n",
       "      <td>37208.8</td>\n",
       "      <td>4847.2</td>\n",
       "      <td>...</td>\n",
       "      <td>8573.9</td>\n",
       "      <td>23508.5</td>\n",
       "      <td>24372.9</td>\n",
       "      <td>7105.4</td>\n",
       "      <td>11876.7</td>\n",
       "      <td>5390.8</td>\n",
       "      <td>22543.0</td>\n",
       "      <td>7012.2</td>\n",
       "      <td>226287.4</td>\n",
       "      <td>9871.4</td>\n",
       "    </tr>\n",
       "    <tr>\n",
       "      <th>2007</th>\n",
       "      <td>272697.6</td>\n",
       "      <td>77087.9</td>\n",
       "      <td>64963.8</td>\n",
       "      <td>8095.8</td>\n",
       "      <td>3911.4</td>\n",
       "      <td>116.9</td>\n",
       "      <td>172146.6</td>\n",
       "      <td>49097.7</td>\n",
       "      <td>43900.3</td>\n",
       "      <td>5197.4</td>\n",
       "      <td>...</td>\n",
       "      <td>9281.2</td>\n",
       "      <td>29568.6</td>\n",
       "      <td>30506.2</td>\n",
       "      <td>9360.7</td>\n",
       "      <td>14479.1</td>\n",
       "      <td>6666.4</td>\n",
       "      <td>24185.3</td>\n",
       "      <td>7943.3</td>\n",
       "      <td>257177.8</td>\n",
       "      <td>15519.8</td>\n",
       "    </tr>\n",
       "    <tr>\n",
       "      <th>2008</th>\n",
       "      <td>273941.6</td>\n",
       "      <td>72476.1</td>\n",
       "      <td>56392.7</td>\n",
       "      <td>11971.2</td>\n",
       "      <td>3998.7</td>\n",
       "      <td>113.5</td>\n",
       "      <td>177067.3</td>\n",
       "      <td>45086.1</td>\n",
       "      <td>39740.0</td>\n",
       "      <td>5346.1</td>\n",
       "      <td>...</td>\n",
       "      <td>9765.6</td>\n",
       "      <td>30190.0</td>\n",
       "      <td>35547.8</td>\n",
       "      <td>11362.8</td>\n",
       "      <td>16329.7</td>\n",
       "      <td>7855.3</td>\n",
       "      <td>25945.8</td>\n",
       "      <td>10166.2</td>\n",
       "      <td>259709.6</td>\n",
       "      <td>14232.0</td>\n",
       "    </tr>\n",
       "    <tr>\n",
       "      <th>2009</th>\n",
       "      <td>282394.5</td>\n",
       "      <td>76407.5</td>\n",
       "      <td>57250.9</td>\n",
       "      <td>14989.9</td>\n",
       "      <td>4051.8</td>\n",
       "      <td>114.9</td>\n",
       "      <td>181693.7</td>\n",
       "      <td>50395.9</td>\n",
       "      <td>44979.3</td>\n",
       "      <td>5416.6</td>\n",
       "      <td>...</td>\n",
       "      <td>10699.0</td>\n",
       "      <td>31589.8</td>\n",
       "      <td>35617.1</td>\n",
       "      <td>11027.5</td>\n",
       "      <td>16662.0</td>\n",
       "      <td>7927.6</td>\n",
       "      <td>26966.1</td>\n",
       "      <td>10351.7</td>\n",
       "      <td>268452.9</td>\n",
       "      <td>13941.6</td>\n",
       "    </tr>\n",
       "    <tr>\n",
       "      <th>2010</th>\n",
       "      <td>326980.1</td>\n",
       "      <td>87212.2</td>\n",
       "      <td>67926.3</td>\n",
       "      <td>14402.7</td>\n",
       "      <td>4765.0</td>\n",
       "      <td>118.2</td>\n",
       "      <td>210487.7</td>\n",
       "      <td>59177.5</td>\n",
       "      <td>53525.7</td>\n",
       "      <td>5651.8</td>\n",
       "      <td>...</td>\n",
       "      <td>11557.1</td>\n",
       "      <td>33987.9</td>\n",
       "      <td>41994.8</td>\n",
       "      <td>14034.8</td>\n",
       "      <td>18280.7</td>\n",
       "      <td>9679.3</td>\n",
       "      <td>32433.5</td>\n",
       "      <td>11347.1</td>\n",
       "      <td>309047.0</td>\n",
       "      <td>17933.1</td>\n",
       "    </tr>\n",
       "    <tr>\n",
       "      <th>2011</th>\n",
       "      <td>351367.9</td>\n",
       "      <td>88875.7</td>\n",
       "      <td>68806.8</td>\n",
       "      <td>14837.1</td>\n",
       "      <td>5110.2</td>\n",
       "      <td>121.6</td>\n",
       "      <td>228920.2</td>\n",
       "      <td>68009.6</td>\n",
       "      <td>61678.4</td>\n",
       "      <td>6331.2</td>\n",
       "      <td>...</td>\n",
       "      <td>12792.4</td>\n",
       "      <td>35298.4</td>\n",
       "      <td>47535.9</td>\n",
       "      <td>16127.2</td>\n",
       "      <td>19672.5</td>\n",
       "      <td>11736.2</td>\n",
       "      <td>35896.8</td>\n",
       "      <td>13604.9</td>\n",
       "      <td>331400.8</td>\n",
       "      <td>19967.1</td>\n",
       "    </tr>\n",
       "    <tr>\n",
       "      <th>2012</th>\n",
       "      <td>368770.5</td>\n",
       "      <td>92397.2</td>\n",
       "      <td>70497.2</td>\n",
       "      <td>16422.7</td>\n",
       "      <td>5354.6</td>\n",
       "      <td>122.7</td>\n",
       "      <td>239471.7</td>\n",
       "      <td>67637.8</td>\n",
       "      <td>61105.9</td>\n",
       "      <td>6531.9</td>\n",
       "      <td>...</td>\n",
       "      <td>14011.6</td>\n",
       "      <td>37722.1</td>\n",
       "      <td>50982.6</td>\n",
       "      <td>17078.0</td>\n",
       "      <td>20982.3</td>\n",
       "      <td>12922.3</td>\n",
       "      <td>37567.1</td>\n",
       "      <td>15749.3</td>\n",
       "      <td>347618.2</td>\n",
       "      <td>21152.3</td>\n",
       "    </tr>\n",
       "    <tr>\n",
       "      <th>2013</th>\n",
       "      <td>384870.3</td>\n",
       "      <td>90356.4</td>\n",
       "      <td>67885.0</td>\n",
       "      <td>17119.7</td>\n",
       "      <td>5219.4</td>\n",
       "      <td>132.3</td>\n",
       "      <td>255092.1</td>\n",
       "      <td>68495.3</td>\n",
       "      <td>61886.9</td>\n",
       "      <td>6608.4</td>\n",
       "      <td>...</td>\n",
       "      <td>15137.3</td>\n",
       "      <td>42888.3</td>\n",
       "      <td>55306.0</td>\n",
       "      <td>19243.2</td>\n",
       "      <td>21671.4</td>\n",
       "      <td>14391.4</td>\n",
       "      <td>40300.2</td>\n",
       "      <td>17251.0</td>\n",
       "      <td>362699.5</td>\n",
       "      <td>22170.8</td>\n",
       "    </tr>\n",
       "    <tr>\n",
       "      <th>2014</th>\n",
       "      <td>398947.9</td>\n",
       "      <td>96557.6</td>\n",
       "      <td>71809.7</td>\n",
       "      <td>19179.9</td>\n",
       "      <td>5430.2</td>\n",
       "      <td>137.8</td>\n",
       "      <td>262844.0</td>\n",
       "      <td>64724.5</td>\n",
       "      <td>57829.3</td>\n",
       "      <td>6895.2</td>\n",
       "      <td>...</td>\n",
       "      <td>16196.1</td>\n",
       "      <td>45966.4</td>\n",
       "      <td>57533.0</td>\n",
       "      <td>18962.7</td>\n",
       "      <td>22104.8</td>\n",
       "      <td>16465.5</td>\n",
       "      <td>42665.0</td>\n",
       "      <td>17797.2</td>\n",
       "      <td>377198.8</td>\n",
       "      <td>21749.1</td>\n",
       "    </tr>\n",
       "    <tr>\n",
       "      <th>2015</th>\n",
       "      <td>423444.1</td>\n",
       "      <td>102984.3</td>\n",
       "      <td>76598.2</td>\n",
       "      <td>20430.8</td>\n",
       "      <td>5817.2</td>\n",
       "      <td>138.1</td>\n",
       "      <td>278103.0</td>\n",
       "      <td>65584.5</td>\n",
       "      <td>58306.1</td>\n",
       "      <td>7278.4</td>\n",
       "      <td>...</td>\n",
       "      <td>16227.4</td>\n",
       "      <td>49872.2</td>\n",
       "      <td>62666.4</td>\n",
       "      <td>18781.5</td>\n",
       "      <td>24218.6</td>\n",
       "      <td>19666.3</td>\n",
       "      <td>44974.4</td>\n",
       "      <td>18100.1</td>\n",
       "      <td>399187.4</td>\n",
       "      <td>24256.7</td>\n",
       "    </tr>\n",
       "    <tr>\n",
       "      <th>2016</th>\n",
       "      <td>440467.0</td>\n",
       "      <td>102634.5</td>\n",
       "      <td>77118.1</td>\n",
       "      <td>19766.9</td>\n",
       "      <td>5610.3</td>\n",
       "      <td>139.2</td>\n",
       "      <td>293660.7</td>\n",
       "      <td>74171.9</td>\n",
       "      <td>66518.6</td>\n",
       "      <td>7653.3</td>\n",
       "      <td>...</td>\n",
       "      <td>17517.6</td>\n",
       "      <td>51860.3</td>\n",
       "      <td>65650.2</td>\n",
       "      <td>17421.6</td>\n",
       "      <td>24920.6</td>\n",
       "      <td>23308.0</td>\n",
       "      <td>47522.3</td>\n",
       "      <td>17589.4</td>\n",
       "      <td>413884.6</td>\n",
       "      <td>26582.4</td>\n",
       "    </tr>\n",
       "    <tr>\n",
       "      <th>2017</th>\n",
       "      <td>473915.7</td>\n",
       "      <td>111655.9</td>\n",
       "      <td>88069.4</td>\n",
       "      <td>17944.1</td>\n",
       "      <td>5496.6</td>\n",
       "      <td>145.8</td>\n",
       "      <td>315949.8</td>\n",
       "      <td>82147.7</td>\n",
       "      <td>74367.0</td>\n",
       "      <td>7780.7</td>\n",
       "      <td>...</td>\n",
       "      <td>18768.8</td>\n",
       "      <td>56973.6</td>\n",
       "      <td>66736.0</td>\n",
       "      <td>15701.5</td>\n",
       "      <td>25909.0</td>\n",
       "      <td>25125.5</td>\n",
       "      <td>50376.1</td>\n",
       "      <td>17436.2</td>\n",
       "      <td>445041.9</td>\n",
       "      <td>28873.8</td>\n",
       "    </tr>\n",
       "    <tr>\n",
       "      <th>2018</th>\n",
       "      <td>508495.1</td>\n",
       "      <td>129248.4</td>\n",
       "      <td>105443.1</td>\n",
       "      <td>17840.7</td>\n",
       "      <td>5811.4</td>\n",
       "      <td>153.2</td>\n",
       "      <td>334917.7</td>\n",
       "      <td>89284.7</td>\n",
       "      <td>81328.4</td>\n",
       "      <td>7956.3</td>\n",
       "      <td>...</td>\n",
       "      <td>19908.5</td>\n",
       "      <td>62714.7</td>\n",
       "      <td>69839.3</td>\n",
       "      <td>16350.1</td>\n",
       "      <td>27020.7</td>\n",
       "      <td>26468.5</td>\n",
       "      <td>52530.7</td>\n",
       "      <td>17751.0</td>\n",
       "      <td>481917.1</td>\n",
       "      <td>26578.0</td>\n",
       "    </tr>\n",
       "    <tr>\n",
       "      <th>2019</th>\n",
       "      <td>512219.9</td>\n",
       "      <td>123654.4</td>\n",
       "      <td>99538.9</td>\n",
       "      <td>18070.4</td>\n",
       "      <td>5879.7</td>\n",
       "      <td>165.4</td>\n",
       "      <td>344169.0</td>\n",
       "      <td>89931.5</td>\n",
       "      <td>82363.7</td>\n",
       "      <td>7567.8</td>\n",
       "      <td>...</td>\n",
       "      <td>22797.2</td>\n",
       "      <td>68071.6</td>\n",
       "      <td>67881.9</td>\n",
       "      <td>16841.1</td>\n",
       "      <td>29091.8</td>\n",
       "      <td>21949.0</td>\n",
       "      <td>54233.4</td>\n",
       "      <td>18453.0</td>\n",
       "      <td>486276.4</td>\n",
       "      <td>25943.5</td>\n",
       "    </tr>\n",
       "    <tr>\n",
       "      <th>2020</th>\n",
       "      <td>476404.8</td>\n",
       "      <td>112820.7</td>\n",
       "      <td>95066.5</td>\n",
       "      <td>11550.5</td>\n",
       "      <td>6045.7</td>\n",
       "      <td>158.0</td>\n",
       "      <td>322627.6</td>\n",
       "      <td>87169.6</td>\n",
       "      <td>80967.7</td>\n",
       "      <td>6201.9</td>\n",
       "      <td>...</td>\n",
       "      <td>24648.8</td>\n",
       "      <td>69718.6</td>\n",
       "      <td>58879.1</td>\n",
       "      <td>13423.3</td>\n",
       "      <td>27262.0</td>\n",
       "      <td>18193.8</td>\n",
       "      <td>48795.0</td>\n",
       "      <td>18785.2</td>\n",
       "      <td>454233.5</td>\n",
       "      <td>22171.3</td>\n",
       "    </tr>\n",
       "    <tr>\n",
       "      <th>2021</th>\n",
       "      <td>533351.9</td>\n",
       "      <td>132999.6</td>\n",
       "      <td>112399.4</td>\n",
       "      <td>14570.1</td>\n",
       "      <td>5851.0</td>\n",
       "      <td>179.1</td>\n",
       "      <td>351466.5</td>\n",
       "      <td>97083.5</td>\n",
       "      <td>90208.4</td>\n",
       "      <td>6875.1</td>\n",
       "      <td>...</td>\n",
       "      <td>28355.2</td>\n",
       "      <td>73747.0</td>\n",
       "      <td>62181.0</td>\n",
       "      <td>14731.3</td>\n",
       "      <td>29375.3</td>\n",
       "      <td>18074.4</td>\n",
       "      <td>52675.7</td>\n",
       "      <td>18940.0</td>\n",
       "      <td>503406.1</td>\n",
       "      <td>29945.8</td>\n",
       "    </tr>\n",
       "  </tbody>\n",
       "</table>\n",
       "<p>17 rows × 24 columns</p>\n",
       "</div>"
      ],
      "text/plain": [
       "Data Series GDP At Current Market Prices   Goods Producing Industries  \\\n",
       "2005                            212723.0                      66928.4   \n",
       "2006                            236158.8                      73075.0   \n",
       "2007                            272697.6                      77087.9   \n",
       "2008                            273941.6                      72476.1   \n",
       "2009                            282394.5                      76407.5   \n",
       "2010                            326980.1                      87212.2   \n",
       "2011                            351367.9                      88875.7   \n",
       "2012                            368770.5                      92397.2   \n",
       "2013                            384870.3                      90356.4   \n",
       "2014                            398947.9                      96557.6   \n",
       "2015                            423444.1                     102984.3   \n",
       "2016                            440467.0                     102634.5   \n",
       "2017                            473915.7                     111655.9   \n",
       "2018                            508495.1                     129248.4   \n",
       "2019                            512219.9                     123654.4   \n",
       "2020                            476404.8                     112820.7   \n",
       "2021                            533351.9                     132999.6   \n",
       "\n",
       "Data Series     Manufacturing     Construction     Utilities  \\\n",
       "2005                  57598.5           6010.7        3202.1   \n",
       "2006                  62766.3           6485.3        3708.0   \n",
       "2007                  64963.8           8095.8        3911.4   \n",
       "2008                  56392.7          11971.2        3998.7   \n",
       "2009                  57250.9          14989.9        4051.8   \n",
       "2010                  67926.3          14402.7        4765.0   \n",
       "2011                  68806.8          14837.1        5110.2   \n",
       "2012                  70497.2          16422.7        5354.6   \n",
       "2013                  67885.0          17119.7        5219.4   \n",
       "2014                  71809.7          19179.9        5430.2   \n",
       "2015                  76598.2          20430.8        5817.2   \n",
       "2016                  77118.1          19766.9        5610.3   \n",
       "2017                  88069.4          17944.1        5496.6   \n",
       "2018                 105443.1          17840.7        5811.4   \n",
       "2019                  99538.9          18070.4        5879.7   \n",
       "2020                  95066.5          11550.5        6045.7   \n",
       "2021                 112399.4          14570.1        5851.0   \n",
       "\n",
       "Data Series     Other Goods Industries   Services Producing Industries  \\\n",
       "2005                             117.1                        129980.6   \n",
       "2006                             115.4                        146200.2   \n",
       "2007                             116.9                        172146.6   \n",
       "2008                             113.5                        177067.3   \n",
       "2009                             114.9                        181693.7   \n",
       "2010                             118.2                        210487.7   \n",
       "2011                             121.6                        228920.2   \n",
       "2012                             122.7                        239471.7   \n",
       "2013                             132.3                        255092.1   \n",
       "2014                             137.8                        262844.0   \n",
       "2015                             138.1                        278103.0   \n",
       "2016                             139.2                        293660.7   \n",
       "2017                             145.8                        315949.8   \n",
       "2018                             153.2                        334917.7   \n",
       "2019                             165.4                        344169.0   \n",
       "2020                             158.0                        322627.6   \n",
       "2021                             179.1                        351466.5   \n",
       "\n",
       "Data Series     Wholesale & Retail Trade       Wholesale Trade  \\\n",
       "2005                             34655.5               30070.2   \n",
       "2006                             42056.0               37208.8   \n",
       "2007                             49097.7               43900.3   \n",
       "2008                             45086.1               39740.0   \n",
       "2009                             50395.9               44979.3   \n",
       "2010                             59177.5               53525.7   \n",
       "2011                             68009.6               61678.4   \n",
       "2012                             67637.8               61105.9   \n",
       "2013                             68495.3               61886.9   \n",
       "2014                             64724.5               57829.3   \n",
       "2015                             65584.5               58306.1   \n",
       "2016                             74171.9               66518.6   \n",
       "2017                             82147.7               74367.0   \n",
       "2018                             89284.7               81328.4   \n",
       "2019                             89931.5               82363.7   \n",
       "2020                             87169.6               80967.7   \n",
       "2021                             97083.5               90208.4   \n",
       "\n",
       "Data Series       Retail Trade  ...     Information & Communications  \\\n",
       "2005                    4585.3  ...                           8132.6   \n",
       "2006                    4847.2  ...                           8573.9   \n",
       "2007                    5197.4  ...                           9281.2   \n",
       "2008                    5346.1  ...                           9765.6   \n",
       "2009                    5416.6  ...                          10699.0   \n",
       "2010                    5651.8  ...                          11557.1   \n",
       "2011                    6331.2  ...                          12792.4   \n",
       "2012                    6531.9  ...                          14011.6   \n",
       "2013                    6608.4  ...                          15137.3   \n",
       "2014                    6895.2  ...                          16196.1   \n",
       "2015                    7278.4  ...                          16227.4   \n",
       "2016                    7653.3  ...                          17517.6   \n",
       "2017                    7780.7  ...                          18768.8   \n",
       "2018                    7956.3  ...                          19908.5   \n",
       "2019                    7567.8  ...                          22797.2   \n",
       "2020                    6201.9  ...                          24648.8   \n",
       "2021                    6875.1  ...                          28355.2   \n",
       "\n",
       "Data Series     Finance & Insurance  \\\n",
       "2005                        19680.3   \n",
       "2006                        23508.5   \n",
       "2007                        29568.6   \n",
       "2008                        30190.0   \n",
       "2009                        31589.8   \n",
       "2010                        33987.9   \n",
       "2011                        35298.4   \n",
       "2012                        37722.1   \n",
       "2013                        42888.3   \n",
       "2014                        45966.4   \n",
       "2015                        49872.2   \n",
       "2016                        51860.3   \n",
       "2017                        56973.6   \n",
       "2018                        62714.7   \n",
       "2019                        68071.6   \n",
       "2020                        69718.6   \n",
       "2021                        73747.0   \n",
       "\n",
       "Data Series     Real Estate, Professional Services And Administrative & Support Services  \\\n",
       "2005                                                   22014.8                             \n",
       "2006                                                   24372.9                             \n",
       "2007                                                   30506.2                             \n",
       "2008                                                   35547.8                             \n",
       "2009                                                   35617.1                             \n",
       "2010                                                   41994.8                             \n",
       "2011                                                   47535.9                             \n",
       "2012                                                   50982.6                             \n",
       "2013                                                   55306.0                             \n",
       "2014                                                   57533.0                             \n",
       "2015                                                   62666.4                             \n",
       "2016                                                   65650.2                             \n",
       "2017                                                   66736.0                             \n",
       "2018                                                   69839.3                             \n",
       "2019                                                   67881.9                             \n",
       "2020                                                   58879.1                             \n",
       "2021                                                   62181.0                             \n",
       "\n",
       "Data Series       Real Estate       Professional Services  \\\n",
       "2005                   6728.7                     10516.1   \n",
       "2006                   7105.4                     11876.7   \n",
       "2007                   9360.7                     14479.1   \n",
       "2008                  11362.8                     16329.7   \n",
       "2009                  11027.5                     16662.0   \n",
       "2010                  14034.8                     18280.7   \n",
       "2011                  16127.2                     19672.5   \n",
       "2012                  17078.0                     20982.3   \n",
       "2013                  19243.2                     21671.4   \n",
       "2014                  18962.7                     22104.8   \n",
       "2015                  18781.5                     24218.6   \n",
       "2016                  17421.6                     24920.6   \n",
       "2017                  15701.5                     25909.0   \n",
       "2018                  16350.1                     27020.7   \n",
       "2019                  16841.1                     29091.8   \n",
       "2020                  13423.3                     27262.0   \n",
       "2021                  14731.3                     29375.3   \n",
       "\n",
       "Data Series       Administrative & Support Services  \\\n",
       "2005                                         4770.0   \n",
       "2006                                         5390.8   \n",
       "2007                                         6666.4   \n",
       "2008                                         7855.3   \n",
       "2009                                         7927.6   \n",
       "2010                                         9679.3   \n",
       "2011                                        11736.2   \n",
       "2012                                        12922.3   \n",
       "2013                                        14391.4   \n",
       "2014                                        16465.5   \n",
       "2015                                        19666.3   \n",
       "2016                                        23308.0   \n",
       "2017                                        25125.5   \n",
       "2018                                        26468.5   \n",
       "2019                                        21949.0   \n",
       "2020                                        18193.8   \n",
       "2021                                        18074.4   \n",
       "\n",
       "Data Series     Other Services Industries   Ownership Of Dwellings  \\\n",
       "2005                              20818.3                   6317.8   \n",
       "2006                              22543.0                   7012.2   \n",
       "2007                              24185.3                   7943.3   \n",
       "2008                              25945.8                  10166.2   \n",
       "2009                              26966.1                  10351.7   \n",
       "2010                              32433.5                  11347.1   \n",
       "2011                              35896.8                  13604.9   \n",
       "2012                              37567.1                  15749.3   \n",
       "2013                              40300.2                  17251.0   \n",
       "2014                              42665.0                  17797.2   \n",
       "2015                              44974.4                  18100.1   \n",
       "2016                              47522.3                  17589.4   \n",
       "2017                              50376.1                  17436.2   \n",
       "2018                              52530.7                  17751.0   \n",
       "2019                              54233.4                  18453.0   \n",
       "2020                              48795.0                  18785.2   \n",
       "2021                              52675.7                  18940.0   \n",
       "\n",
       "Data Series   Gross Value Added At Basic Prices   Add: Taxes On Products  \n",
       "2005                                   203226.8                   9496.2  \n",
       "2006                                   226287.4                   9871.4  \n",
       "2007                                   257177.8                  15519.8  \n",
       "2008                                   259709.6                  14232.0  \n",
       "2009                                   268452.9                  13941.6  \n",
       "2010                                   309047.0                  17933.1  \n",
       "2011                                   331400.8                  19967.1  \n",
       "2012                                   347618.2                  21152.3  \n",
       "2013                                   362699.5                  22170.8  \n",
       "2014                                   377198.8                  21749.1  \n",
       "2015                                   399187.4                  24256.7  \n",
       "2016                                   413884.6                  26582.4  \n",
       "2017                                   445041.9                  28873.8  \n",
       "2018                                   481917.1                  26578.0  \n",
       "2019                                   486276.4                  25943.5  \n",
       "2020                                   454233.5                  22171.3  \n",
       "2021                                   503406.1                  29945.8  \n",
       "\n",
       "[17 rows x 24 columns]"
      ]
     },
     "execution_count": 195,
     "metadata": {},
     "output_type": "execute_result"
    }
   ],
   "source": [
    "# Starting with manufacturing growth using the GDP contributed by manufacturing industry\n",
    "annual_GDP = pd.read_excel(\"Annual GDP_SG.xlsx\")\n",
    "annual_GDP = annual_GDP.T\n",
    "new_header_annual_GDP = annual_GDP.iloc[0]\n",
    "annual_GDP = annual_GDP[1:]\n",
    "annual_GDP.columns = new_header_annual_GDP\n",
    "annual_GDP = annual_GDP[::-1]\n",
    "annual_GDP"
   ]
  },
  {
   "cell_type": "code",
   "execution_count": 202,
   "metadata": {},
   "outputs": [
    {
     "data": {
      "text/plain": [
       "2005      66928.4\n",
       "2006      73075.0\n",
       "2007      77087.9\n",
       "2008      72476.1\n",
       "2009      76407.5\n",
       "2010      87212.2\n",
       "2011      88875.7\n",
       "2012      92397.2\n",
       "2013      90356.4\n",
       "2014      96557.6\n",
       "2015     102984.3\n",
       "2016     102634.5\n",
       "2017     111655.9\n",
       "2018     129248.4\n",
       "2019     123654.4\n",
       "2020     112820.7\n",
       "2021     132999.6\n",
       "Name:   Goods Producing Industries, dtype: object"
      ]
     },
     "execution_count": 202,
     "metadata": {},
     "output_type": "execute_result"
    }
   ],
   "source": [
    "manufacturing_GDP = annual_GDP['  Goods Producing Industries']\n",
    "manufacturing_GDP"
   ]
  },
  {
   "cell_type": "code",
   "execution_count": 930,
   "metadata": {},
   "outputs": [
    {
     "name": "stderr",
     "output_type": "stream",
     "text": [
      "C:\\Users\\USER\\AppData\\Local\\Temp\\ipykernel_9500\\3982518446.py:2: SettingWithCopyWarning: \n",
      "A value is trying to be set on a copy of a slice from a DataFrame.\n",
      "Try using .loc[row_indexer,col_indexer] = value instead\n",
      "\n",
      "See the caveats in the documentation: https://pandas.pydata.org/pandas-docs/stable/user_guide/indexing.html#returning-a-view-versus-a-copy\n",
      "  manufacturing_energy_load['GDP Generation'] = manufacturing_GDP\n"
     ]
    },
    {
     "data": {
      "text/html": [
       "<div>\n",
       "<style scoped>\n",
       "    .dataframe tbody tr th:only-of-type {\n",
       "        vertical-align: middle;\n",
       "    }\n",
       "\n",
       "    .dataframe tbody tr th {\n",
       "        vertical-align: top;\n",
       "    }\n",
       "\n",
       "    .dataframe thead th {\n",
       "        text-align: right;\n",
       "    }\n",
       "</style>\n",
       "<table border=\"1\" class=\"dataframe\">\n",
       "  <thead>\n",
       "    <tr style=\"text-align: right;\">\n",
       "      <th></th>\n",
       "      <th>year</th>\n",
       "      <th>sector</th>\n",
       "      <th>sub_sector</th>\n",
       "      <th>consumption_GWh</th>\n",
       "      <th>GDP Generation</th>\n",
       "    </tr>\n",
       "  </thead>\n",
       "  <tbody>\n",
       "    <tr>\n",
       "      <th>11</th>\n",
       "      <td>2005</td>\n",
       "      <td>Industrial-related</td>\n",
       "      <td>Manufacturing</td>\n",
       "      <td>13836.1</td>\n",
       "      <td>66928.4</td>\n",
       "    </tr>\n",
       "    <tr>\n",
       "      <th>27</th>\n",
       "      <td>2006</td>\n",
       "      <td>Industrial-related</td>\n",
       "      <td>Manufacturing</td>\n",
       "      <td>14397.2</td>\n",
       "      <td>73075.0</td>\n",
       "    </tr>\n",
       "    <tr>\n",
       "      <th>43</th>\n",
       "      <td>2007</td>\n",
       "      <td>Industrial-related</td>\n",
       "      <td>Manufacturing</td>\n",
       "      <td>14943.2</td>\n",
       "      <td>77087.9</td>\n",
       "    </tr>\n",
       "    <tr>\n",
       "      <th>59</th>\n",
       "      <td>2008</td>\n",
       "      <td>Industrial-related</td>\n",
       "      <td>Manufacturing</td>\n",
       "      <td>15032.7</td>\n",
       "      <td>72476.1</td>\n",
       "    </tr>\n",
       "    <tr>\n",
       "      <th>75</th>\n",
       "      <td>2009</td>\n",
       "      <td>Industrial-related</td>\n",
       "      <td>Manufacturing</td>\n",
       "      <td>14539.7</td>\n",
       "      <td>76407.5</td>\n",
       "    </tr>\n",
       "    <tr>\n",
       "      <th>91</th>\n",
       "      <td>2010</td>\n",
       "      <td>Industrial-related</td>\n",
       "      <td>Manufacturing</td>\n",
       "      <td>16448.0</td>\n",
       "      <td>87212.2</td>\n",
       "    </tr>\n",
       "    <tr>\n",
       "      <th>107</th>\n",
       "      <td>2011</td>\n",
       "      <td>Industrial-related</td>\n",
       "      <td>Manufacturing</td>\n",
       "      <td>16752.4</td>\n",
       "      <td>88875.7</td>\n",
       "    </tr>\n",
       "    <tr>\n",
       "      <th>123</th>\n",
       "      <td>2012</td>\n",
       "      <td>Industrial-related</td>\n",
       "      <td>Manufacturing</td>\n",
       "      <td>17112.4</td>\n",
       "      <td>92397.2</td>\n",
       "    </tr>\n",
       "    <tr>\n",
       "      <th>139</th>\n",
       "      <td>2013</td>\n",
       "      <td>Industrial-related</td>\n",
       "      <td>Manufacturing</td>\n",
       "      <td>17237.4</td>\n",
       "      <td>90356.4</td>\n",
       "    </tr>\n",
       "    <tr>\n",
       "      <th>155</th>\n",
       "      <td>2014</td>\n",
       "      <td>Industrial-related</td>\n",
       "      <td>Manufacturing</td>\n",
       "      <td>17989.0</td>\n",
       "      <td>96557.6</td>\n",
       "    </tr>\n",
       "    <tr>\n",
       "      <th>171</th>\n",
       "      <td>2015</td>\n",
       "      <td>Industrial-related</td>\n",
       "      <td>Manufacturing</td>\n",
       "      <td>18277.6</td>\n",
       "      <td>102984.3</td>\n",
       "    </tr>\n",
       "    <tr>\n",
       "      <th>187</th>\n",
       "      <td>2016</td>\n",
       "      <td>Industrial-related</td>\n",
       "      <td>Manufacturing</td>\n",
       "      <td>18368.0</td>\n",
       "      <td>102634.5</td>\n",
       "    </tr>\n",
       "    <tr>\n",
       "      <th>203</th>\n",
       "      <td>2017</td>\n",
       "      <td>Industrial-related</td>\n",
       "      <td>Manufacturing</td>\n",
       "      <td>19309.0</td>\n",
       "      <td>111655.9</td>\n",
       "    </tr>\n",
       "    <tr>\n",
       "      <th>219</th>\n",
       "      <td>2018</td>\n",
       "      <td>Industrial-related</td>\n",
       "      <td>Manufacturing</td>\n",
       "      <td>19443.4</td>\n",
       "      <td>129248.4</td>\n",
       "    </tr>\n",
       "    <tr>\n",
       "      <th>235</th>\n",
       "      <td>2019</td>\n",
       "      <td>Industrial-related</td>\n",
       "      <td>Manufacturing</td>\n",
       "      <td>19441.0</td>\n",
       "      <td>123654.4</td>\n",
       "    </tr>\n",
       "    <tr>\n",
       "      <th>251</th>\n",
       "      <td>2020</td>\n",
       "      <td>Industrial-related</td>\n",
       "      <td>Manufacturing</td>\n",
       "      <td>19121.2</td>\n",
       "      <td>112820.7</td>\n",
       "    </tr>\n",
       "    <tr>\n",
       "      <th>267</th>\n",
       "      <td>2021</td>\n",
       "      <td>Industrial-related</td>\n",
       "      <td>Manufacturing</td>\n",
       "      <td>20284.6</td>\n",
       "      <td>132999.6</td>\n",
       "    </tr>\n",
       "    <tr>\n",
       "      <th>283</th>\n",
       "      <td>2022</td>\n",
       "      <td>Industrial-related</td>\n",
       "      <td>Manufacturing</td>\n",
       "      <td>20461.4</td>\n",
       "      <td>145590.0</td>\n",
       "    </tr>\n",
       "  </tbody>\n",
       "</table>\n",
       "</div>"
      ],
      "text/plain": [
       "     year              sector     sub_sector  consumption_GWh  GDP Generation\n",
       "11   2005  Industrial-related  Manufacturing          13836.1         66928.4\n",
       "27   2006  Industrial-related  Manufacturing          14397.2         73075.0\n",
       "43   2007  Industrial-related  Manufacturing          14943.2         77087.9\n",
       "59   2008  Industrial-related  Manufacturing          15032.7         72476.1\n",
       "75   2009  Industrial-related  Manufacturing          14539.7         76407.5\n",
       "91   2010  Industrial-related  Manufacturing          16448.0         87212.2\n",
       "107  2011  Industrial-related  Manufacturing          16752.4         88875.7\n",
       "123  2012  Industrial-related  Manufacturing          17112.4         92397.2\n",
       "139  2013  Industrial-related  Manufacturing          17237.4         90356.4\n",
       "155  2014  Industrial-related  Manufacturing          17989.0         96557.6\n",
       "171  2015  Industrial-related  Manufacturing          18277.6        102984.3\n",
       "187  2016  Industrial-related  Manufacturing          18368.0        102634.5\n",
       "203  2017  Industrial-related  Manufacturing          19309.0        111655.9\n",
       "219  2018  Industrial-related  Manufacturing          19443.4        129248.4\n",
       "235  2019  Industrial-related  Manufacturing          19441.0        123654.4\n",
       "251  2020  Industrial-related  Manufacturing          19121.2        112820.7\n",
       "267  2021  Industrial-related  Manufacturing          20284.6        132999.6\n",
       "283  2022  Industrial-related  Manufacturing          20461.4        145590.0"
      ]
     },
     "execution_count": 930,
     "metadata": {},
     "output_type": "execute_result"
    }
   ],
   "source": [
    "manufacturing_GDP = [66928.4,73075.0,77087.9,72476.1,76407.5,87212.2,88875.7,92397.2,90356.4,96557.6,102984.3,102634.5,111655.9,129248.4,123654.4,112820.7,132999.6,145590]\n",
    "manufacturing_energy_load['GDP Generation'] = manufacturing_GDP\n",
    "manufacturing_energy_load\n",
    "\n",
    "#for GDP generated, data for 2022 is only available up till Q3. 2022 Q4 GDP will be assumed to be the average of Q1-Q3 2022"
   ]
  },
  {
   "cell_type": "code",
   "execution_count": 285,
   "metadata": {},
   "outputs": [
    {
     "data": {
      "text/plain": [
       "15"
      ]
     },
     "execution_count": 285,
     "metadata": {},
     "output_type": "execute_result"
    }
   ],
   "source": [
    "import math\n",
    "from sklearn.preprocessing import MinMaxScaler \n",
    "manufacturing_GDP = manufacturing_energy_load['GDP Generation'].values\n",
    "training_data_len_manufacturing_GDP = math.ceil(len(manufacturing_GDP)*0.8)\n",
    "training_data_len_manufacturing_GDP"
   ]
  },
  {
   "cell_type": "code",
   "execution_count": 286,
   "metadata": {},
   "outputs": [],
   "source": [
    "manufacturing_GDP = manufacturing_GDP.reshape(-1,1)"
   ]
  },
  {
   "cell_type": "code",
   "execution_count": 411,
   "metadata": {},
   "outputs": [],
   "source": [
    "scaler = MinMaxScaler()\n",
    "scaled_manufacturing_GDP = scaler.fit_transform(manufacturing_GDP.reshape(-1,1))     #normalizing the data as data does not follow a Gaussian distribution\n",
    "training_data_manufacturing_GDP = manufacturing_GDP[0:training_data_len_manufacturing_GDP,:]       #80% of the scaled manufacturing GDP data to be used as the training data\n",
    "\n",
    "X_train_manufacturing_GDP = []\n",
    "Y_train_manufacturing_GDP = []\n",
    "\n",
    "for i in range(3,len(training_data_manufacturing_GDP)):\n",
    "    X_train_manufacturing_GDP.append(training_data_manufacturing_GDP[i-3:i,0])     #x_train data consists of the GDP generated by manufacturing of the past 3 years\n",
    "    Y_train_manufacturing_GDP.append(training_data_manufacturing_GDP[i,0])          #y_train data (label data) consists of the GDP generated by manufacturing of the next corresponding 10 years\n",
    "\n",
    "\n",
    "X_train_manufacturing_GDP, Y_train_manufacturing_GDP = np.array(X_train_manufacturing_GDP), np.array(Y_train_manufacturing_GDP)"
   ]
  },
  {
   "cell_type": "code",
   "execution_count": 412,
   "metadata": {},
   "outputs": [
    {
     "data": {
      "text/plain": [
       "(12, 3)"
      ]
     },
     "execution_count": 412,
     "metadata": {},
     "output_type": "execute_result"
    }
   ],
   "source": [
    "X_train_manufacturing_GDP.shape"
   ]
  },
  {
   "cell_type": "code",
   "execution_count": 413,
   "metadata": {},
   "outputs": [],
   "source": [
    "X_train_manufacturing_GDP = np.reshape(X_train_manufacturing_GDP, (12,3,1))"
   ]
  },
  {
   "cell_type": "code",
   "execution_count": 414,
   "metadata": {},
   "outputs": [],
   "source": [
    "test_data_manufacturing_GDP = scaled_manufacturing_GDP[training_data_len_manufacturing_GDP-3:,:]\n",
    "\n",
    "X_test_manufacturing_GDP = []\n",
    "Y_test_manufacturing_GDP = manufacturing_GDP[training_data_len_manufacturing_GDP:]\n",
    "\n",
    "for i in range(3, len(test_data_manufacturing_GDP)):\n",
    "    X_test_manufacturing_GDP.append(test_data_manufacturing_GDP[i-3:i,0])     \n",
    "    \n",
    "\n",
    "X_test_manufacturing_GDP, Y_test_manufacturing_GDP = np.array(X_test_manufacturing_GDP), np.array(Y_test_manufacturing_GDP)"
   ]
  },
  {
   "cell_type": "code",
   "execution_count": 415,
   "metadata": {},
   "outputs": [
    {
     "data": {
      "text/plain": [
       "(3, 3)"
      ]
     },
     "execution_count": 415,
     "metadata": {},
     "output_type": "execute_result"
    }
   ],
   "source": [
    "X_test_manufacturing_GDP.shape"
   ]
  },
  {
   "cell_type": "code",
   "execution_count": 416,
   "metadata": {},
   "outputs": [
    {
     "data": {
      "text/plain": [
       "(3, 1)"
      ]
     },
     "execution_count": 416,
     "metadata": {},
     "output_type": "execute_result"
    }
   ],
   "source": [
    "Y_test_manufacturing_GDP.shape"
   ]
  },
  {
   "cell_type": "code",
   "execution_count": 417,
   "metadata": {},
   "outputs": [],
   "source": [
    "X_test_manufacturing_GDP = np.reshape(X_test_manufacturing_GDP,(3,3,1))"
   ]
  },
  {
   "cell_type": "code",
   "execution_count": 312,
   "metadata": {},
   "outputs": [],
   "source": [
    "import tensorflow as tf\n",
    "from tensorflow import keras\n",
    "from tensorflow.keras import layers\n",
    "from keras.layers import LSTM\n",
    "from keras.models import Sequential"
   ]
  },
  {
   "cell_type": "code",
   "execution_count": 441,
   "metadata": {},
   "outputs": [
    {
     "name": "stdout",
     "output_type": "stream",
     "text": [
      "Model: \"sequential_36\"\n",
      "_________________________________________________________________\n",
      " Layer (type)                Output Shape              Param #   \n",
      "=================================================================\n",
      " lstm_72 (LSTM)              (None, 3, 30)             3840      \n",
      "                                                                 \n",
      " lstm_73 (LSTM)              (None, 30)                7320      \n",
      "                                                                 \n",
      " dense_72 (Dense)            (None, 10)                310       \n",
      "                                                                 \n",
      " dense_73 (Dense)            (None, 1)                 11        \n",
      "                                                                 \n",
      "=================================================================\n",
      "Total params: 11,481\n",
      "Trainable params: 11,481\n",
      "Non-trainable params: 0\n",
      "_________________________________________________________________\n"
     ]
    }
   ],
   "source": [
    "model = keras.Sequential()      #sequential model is used as we are working with sequential data and we are trying to predict future sequential data\n",
    "model.add(LSTM(30, return_sequences = True, input_shape = (3,1)))\n",
    "model.add(LSTM(30, return_sequences = False))\n",
    "model.add(layers.Dense(10))\n",
    "model.add(layers.Dense(1))\n",
    "model.summary()"
   ]
  },
  {
   "cell_type": "code",
   "execution_count": 442,
   "metadata": {},
   "outputs": [
    {
     "name": "stdout",
     "output_type": "stream",
     "text": [
      "Epoch 1/3\n",
      "12/12 [==============================] - 4s 5ms/step - loss: 9851849728.0000\n",
      "Epoch 2/3\n",
      "12/12 [==============================] - 0s 5ms/step - loss: 9851728896.0000\n",
      "Epoch 3/3\n",
      "12/12 [==============================] - 0s 6ms/step - loss: 9851540480.0000\n"
     ]
    },
    {
     "data": {
      "text/plain": [
       "<keras.callbacks.History at 0x1ed5de14580>"
      ]
     },
     "execution_count": 442,
     "metadata": {},
     "output_type": "execute_result"
    }
   ],
   "source": [
    "model.compile(optimizer = 'adam', loss = 'mean_squared_error')\n",
    "model.fit(X_train_manufacturing_GDP, Y_train_manufacturing_GDP, batch_size =1, epochs=3) "
   ]
  },
  {
   "cell_type": "code",
   "execution_count": 443,
   "metadata": {},
   "outputs": [
    {
     "name": "stdout",
     "output_type": "stream",
     "text": [
      "1/1 [==============================] - 1s 1s/step\n"
     ]
    },
    {
     "data": {
      "text/plain": [
       "35453.176421935896"
      ]
     },
     "execution_count": 443,
     "metadata": {},
     "output_type": "execute_result"
    }
   ],
   "source": [
    "from sklearn.metrics import mean_squared_error\n",
    "\n",
    "predicted_manufacturing_GDP = model.predict(X_test_manufacturing_GDP)\n",
    "predicted_manufacturing_GDP_unscaled = scaler.inverse_transform(predicted_manufacturing_GDP)\n",
    "RMSE = np.sqrt(mean_squared_error(Y_test_manufacturing_GDP, predicted_manufacturing_GDP_unscaled))\n",
    "RMSE"
   ]
  },
  {
   "cell_type": "code",
   "execution_count": 447,
   "metadata": {},
   "outputs": [
    {
     "data": {
      "text/plain": [
       "35.79197129152437"
      ]
     },
     "execution_count": 447,
     "metadata": {},
     "output_type": "execute_result"
    }
   ],
   "source": [
    "mean_manufacturing_GDP = manufacturing_energy_load['GDP Generation'].mean()\n",
    "percentage_error_manufacturing_GDP = RMSE/mean_manufacturing_GDP*100\n",
    "percentage_error_manufacturing_GDP"
   ]
  },
  {
   "cell_type": "code",
   "execution_count": 445,
   "metadata": {},
   "outputs": [
    {
     "data": {
      "text/plain": [
       "(1, 3)"
      ]
     },
     "execution_count": 445,
     "metadata": {},
     "output_type": "execute_result"
    }
   ],
   "source": [
    "last_3years_manufacturing_GDP = Y_test_manufacturing_GDP[0:]\n",
    "last_3years_manufacturing_GDP = last_3years_manufacturing_GDP.reshape(1,-1)\n",
    "last_3years_manufacturing_GDP_list = list(last_3years_manufacturing_GDP)\n",
    "last_3years_manufacturing_GDP.shape"
   ]
  },
  {
   "cell_type": "code",
   "execution_count": 449,
   "metadata": {},
   "outputs": [
    {
     "name": "stdout",
     "output_type": "stream",
     "text": [
      "1/1 [==============================] - 0s 63ms/step\n",
      "[[173358.25838196]]\n"
     ]
    }
   ],
   "source": [
    "predicted_output_manufacturing_GDP = []           \n",
    "last_3years_manufacturing_GDP = last_3years_manufacturing_GDP.reshape((1,3,1))         \n",
    "future_predict_manufacturing_GDP = model.predict(last_3years_manufacturing_GDP,verbose=1)\n",
    "last_3years_manufacturing_GDP_list.extend(future_predict_manufacturing_GDP[0].tolist())         \n",
    "predicted_output_manufacturing_GDP.extend(future_predict_manufacturing_GDP.tolist())  \n",
    "predicted_output_manufacturing_GDP = scaler.inverse_transform(predicted_output_manufacturing_GDP)\n",
    "predicted_manufacturing_GDP = predicted_output_manufacturing_GDP-((percentage_error_manufacturing_GDP/100)*predicted_output_manufacturing_GDP)\n",
    "\n",
    "print(predicted_manufacturing_GDP)\n",
    "\n",
    "#predicted GDP attributed to manufacturing in 2023"
   ]
  },
  {
   "attachments": {},
   "cell_type": "markdown",
   "metadata": {},
   "source": [
    "##### Next will be Commerce/Services Sector"
   ]
  },
  {
   "cell_type": "code",
   "execution_count": 463,
   "metadata": {},
   "outputs": [],
   "source": [
    "commerce_services_GDP = annual_GDP['  Services Producing Industries']\n",
    "commerce_services_GDP = commerce_services_GDP.values.tolist()\n",
    "commerce_services_GDP.append(387078.8)\n",
    "#for GDP generated, data for 2022 is only available up till Q3. 2022 Q4 GDP will be assumed to be the average of Q1-Q3 2022"
   ]
  },
  {
   "cell_type": "code",
   "execution_count": 844,
   "metadata": {},
   "outputs": [
    {
     "name": "stderr",
     "output_type": "stream",
     "text": [
      "C:\\Users\\USER\\AppData\\Local\\Temp\\ipykernel_9500\\3643665094.py:2: SettingWithCopyWarning: \n",
      "A value is trying to be set on a copy of a slice from a DataFrame.\n",
      "Try using .loc[row_indexer,col_indexer] = value instead\n",
      "\n",
      "See the caveats in the documentation: https://pandas.pydata.org/pandas-docs/stable/user_guide/indexing.html#returning-a-view-versus-a-copy\n",
      "  commerce_services_energy_and_GDP['GDP Generation'] = commerce_services_GDP\n"
     ]
    },
    {
     "data": {
      "text/html": [
       "<div>\n",
       "<style scoped>\n",
       "    .dataframe tbody tr th:only-of-type {\n",
       "        vertical-align: middle;\n",
       "    }\n",
       "\n",
       "    .dataframe tbody tr th {\n",
       "        vertical-align: top;\n",
       "    }\n",
       "\n",
       "    .dataframe thead th {\n",
       "        text-align: right;\n",
       "    }\n",
       "</style>\n",
       "<table border=\"1\" class=\"dataframe\">\n",
       "  <thead>\n",
       "    <tr style=\"text-align: right;\">\n",
       "      <th></th>\n",
       "      <th>year</th>\n",
       "      <th>sector</th>\n",
       "      <th>sub_sector</th>\n",
       "      <th>consumption_GWh</th>\n",
       "      <th>GDP Generation</th>\n",
       "    </tr>\n",
       "  </thead>\n",
       "  <tbody>\n",
       "    <tr>\n",
       "      <th>1</th>\n",
       "      <td>2005</td>\n",
       "      <td>Commerce and Services-related</td>\n",
       "      <td>Commerce and Services-related</td>\n",
       "      <td>13075.6</td>\n",
       "      <td>129980.6</td>\n",
       "    </tr>\n",
       "    <tr>\n",
       "      <th>17</th>\n",
       "      <td>2006</td>\n",
       "      <td>Commerce and Services-related</td>\n",
       "      <td>Commerce and Services-related</td>\n",
       "      <td>13785.7</td>\n",
       "      <td>146200.2</td>\n",
       "    </tr>\n",
       "    <tr>\n",
       "      <th>33</th>\n",
       "      <td>2007</td>\n",
       "      <td>Commerce and Services-related</td>\n",
       "      <td>Commerce and Services-related</td>\n",
       "      <td>14520.6</td>\n",
       "      <td>172146.6</td>\n",
       "    </tr>\n",
       "    <tr>\n",
       "      <th>49</th>\n",
       "      <td>2008</td>\n",
       "      <td>Commerce and Services-related</td>\n",
       "      <td>Commerce and Services-related</td>\n",
       "      <td>15004.6</td>\n",
       "      <td>177067.3</td>\n",
       "    </tr>\n",
       "    <tr>\n",
       "      <th>65</th>\n",
       "      <td>2009</td>\n",
       "      <td>Commerce and Services-related</td>\n",
       "      <td>Commerce and Services-related</td>\n",
       "      <td>14800.1</td>\n",
       "      <td>181693.7</td>\n",
       "    </tr>\n",
       "    <tr>\n",
       "      <th>81</th>\n",
       "      <td>2010</td>\n",
       "      <td>Commerce and Services-related</td>\n",
       "      <td>Commerce and Services-related</td>\n",
       "      <td>15469.7</td>\n",
       "      <td>210487.7</td>\n",
       "    </tr>\n",
       "    <tr>\n",
       "      <th>97</th>\n",
       "      <td>2011</td>\n",
       "      <td>Commerce and Services-related</td>\n",
       "      <td>Commerce and Services-related</td>\n",
       "      <td>15876.3</td>\n",
       "      <td>228920.2</td>\n",
       "    </tr>\n",
       "    <tr>\n",
       "      <th>113</th>\n",
       "      <td>2012</td>\n",
       "      <td>Commerce and Services-related</td>\n",
       "      <td>Commerce and Services-related</td>\n",
       "      <td>16366.1</td>\n",
       "      <td>239471.7</td>\n",
       "    </tr>\n",
       "    <tr>\n",
       "      <th>129</th>\n",
       "      <td>2013</td>\n",
       "      <td>Commerce and Services-related</td>\n",
       "      <td>Commerce and Services-related</td>\n",
       "      <td>16718.6</td>\n",
       "      <td>255092.1</td>\n",
       "    </tr>\n",
       "    <tr>\n",
       "      <th>145</th>\n",
       "      <td>2014</td>\n",
       "      <td>Commerce and Services-related</td>\n",
       "      <td>Commerce and Services-related</td>\n",
       "      <td>17046.6</td>\n",
       "      <td>262844.0</td>\n",
       "    </tr>\n",
       "    <tr>\n",
       "      <th>161</th>\n",
       "      <td>2015</td>\n",
       "      <td>Commerce and Services-related</td>\n",
       "      <td>Commerce and Services-related</td>\n",
       "      <td>17481.0</td>\n",
       "      <td>278103.0</td>\n",
       "    </tr>\n",
       "    <tr>\n",
       "      <th>177</th>\n",
       "      <td>2016</td>\n",
       "      <td>Commerce and Services-related</td>\n",
       "      <td>Commerce and Services-related</td>\n",
       "      <td>17699.6</td>\n",
       "      <td>293660.7</td>\n",
       "    </tr>\n",
       "    <tr>\n",
       "      <th>193</th>\n",
       "      <td>2017</td>\n",
       "      <td>Commerce and Services-related</td>\n",
       "      <td>Commerce and Services-related</td>\n",
       "      <td>18060.0</td>\n",
       "      <td>315949.8</td>\n",
       "    </tr>\n",
       "    <tr>\n",
       "      <th>209</th>\n",
       "      <td>2018</td>\n",
       "      <td>Commerce and Services-related</td>\n",
       "      <td>Commerce and Services-related</td>\n",
       "      <td>18583.8</td>\n",
       "      <td>334917.7</td>\n",
       "    </tr>\n",
       "    <tr>\n",
       "      <th>225</th>\n",
       "      <td>2019</td>\n",
       "      <td>Commerce and Services-related</td>\n",
       "      <td>Commerce and Services-related</td>\n",
       "      <td>19319.0</td>\n",
       "      <td>344169.0</td>\n",
       "    </tr>\n",
       "    <tr>\n",
       "      <th>241</th>\n",
       "      <td>2020</td>\n",
       "      <td>Commerce and Services-related</td>\n",
       "      <td>Commerce and Services-related</td>\n",
       "      <td>18517.7</td>\n",
       "      <td>322627.6</td>\n",
       "    </tr>\n",
       "    <tr>\n",
       "      <th>257</th>\n",
       "      <td>2021</td>\n",
       "      <td>Commerce and Services-related</td>\n",
       "      <td>Commerce and Services-related</td>\n",
       "      <td>19837.7</td>\n",
       "      <td>351466.5</td>\n",
       "    </tr>\n",
       "    <tr>\n",
       "      <th>273</th>\n",
       "      <td>2022</td>\n",
       "      <td>Commerce and Services-related</td>\n",
       "      <td>Commerce and Services-related</td>\n",
       "      <td>10259.1</td>\n",
       "      <td>387078.8</td>\n",
       "    </tr>\n",
       "  </tbody>\n",
       "</table>\n",
       "</div>"
      ],
      "text/plain": [
       "     year                         sector                     sub_sector  \\\n",
       "1    2005  Commerce and Services-related  Commerce and Services-related   \n",
       "17   2006  Commerce and Services-related  Commerce and Services-related   \n",
       "33   2007  Commerce and Services-related  Commerce and Services-related   \n",
       "49   2008  Commerce and Services-related  Commerce and Services-related   \n",
       "65   2009  Commerce and Services-related  Commerce and Services-related   \n",
       "81   2010  Commerce and Services-related  Commerce and Services-related   \n",
       "97   2011  Commerce and Services-related  Commerce and Services-related   \n",
       "113  2012  Commerce and Services-related  Commerce and Services-related   \n",
       "129  2013  Commerce and Services-related  Commerce and Services-related   \n",
       "145  2014  Commerce and Services-related  Commerce and Services-related   \n",
       "161  2015  Commerce and Services-related  Commerce and Services-related   \n",
       "177  2016  Commerce and Services-related  Commerce and Services-related   \n",
       "193  2017  Commerce and Services-related  Commerce and Services-related   \n",
       "209  2018  Commerce and Services-related  Commerce and Services-related   \n",
       "225  2019  Commerce and Services-related  Commerce and Services-related   \n",
       "241  2020  Commerce and Services-related  Commerce and Services-related   \n",
       "257  2021  Commerce and Services-related  Commerce and Services-related   \n",
       "273  2022  Commerce and Services-related  Commerce and Services-related   \n",
       "\n",
       "     consumption_GWh  GDP Generation  \n",
       "1            13075.6        129980.6  \n",
       "17           13785.7        146200.2  \n",
       "33           14520.6        172146.6  \n",
       "49           15004.6        177067.3  \n",
       "65           14800.1        181693.7  \n",
       "81           15469.7        210487.7  \n",
       "97           15876.3        228920.2  \n",
       "113          16366.1        239471.7  \n",
       "129          16718.6        255092.1  \n",
       "145          17046.6        262844.0  \n",
       "161          17481.0        278103.0  \n",
       "177          17699.6        293660.7  \n",
       "193          18060.0        315949.8  \n",
       "209          18583.8        334917.7  \n",
       "225          19319.0        344169.0  \n",
       "241          18517.7        322627.6  \n",
       "257          19837.7        351466.5  \n",
       "273          10259.1        387078.8  "
      ]
     },
     "execution_count": 844,
     "metadata": {},
     "output_type": "execute_result"
    }
   ],
   "source": [
    "commerce_services_energy_and_GDP = commerce_service_energy_load.loc[commerce_service_energy_load['sub_sector']=='Commerce and Services-related']\n",
    "commerce_services_energy_and_GDP['GDP Generation'] = commerce_services_GDP\n",
    "commerce_services_energy_and_GDP"
   ]
  },
  {
   "cell_type": "code",
   "execution_count": 472,
   "metadata": {},
   "outputs": [],
   "source": [
    "commerce_services_GDP = commerce_services_energy_and_GDP['GDP Generation'].values\n",
    "training_data_len_commerce_services_GDP = math.ceil(len(commerce_services_GDP)*0.8)\n"
   ]
  },
  {
   "cell_type": "code",
   "execution_count": 473,
   "metadata": {},
   "outputs": [],
   "source": [
    "commerce_services_GDP = commerce_services_GDP.reshape(-1,1)"
   ]
  },
  {
   "cell_type": "code",
   "execution_count": 474,
   "metadata": {},
   "outputs": [],
   "source": [
    "scaled_commerce_services_GDP = scaler.fit_transform(commerce_services_GDP.reshape(-1,1))     #normalizing the data as data does not follow a Gaussian distribution\n",
    "training_data_commerce_services_GDP = commerce_services_GDP[0:training_data_len_commerce_services_GDP,:]       #80% of the scaled commerce/services GDP data to be used as the training data\n",
    "\n",
    "X_train_commerce_services_GDP = []\n",
    "Y_train_commerce_services_GDP = []\n",
    "\n",
    "for i in range(3,len(training_data_commerce_services_GDP)):\n",
    "    X_train_commerce_services_GDP.append(training_data_commerce_services_GDP[i-3:i,0])     #x_train data consists of the GDP generated by commerce/services of the past 3 years\n",
    "    Y_train_commerce_services_GDP.append(training_data_commerce_services_GDP[i,0])          #y_train data (label data) consists of the GDP generated by commerce/services of the next corresponding 10 years\n",
    "\n",
    "\n",
    "X_train_commerce_services_GDP,  Y_train_commerce_services_GDP = np.array(X_train_commerce_services_GDP), np.array(Y_train_commerce_services_GDP)"
   ]
  },
  {
   "cell_type": "code",
   "execution_count": 476,
   "metadata": {},
   "outputs": [
    {
     "data": {
      "text/plain": [
       "(12, 3)"
      ]
     },
     "execution_count": 476,
     "metadata": {},
     "output_type": "execute_result"
    }
   ],
   "source": [
    "X_train_commerce_services_GDP.shape"
   ]
  },
  {
   "cell_type": "code",
   "execution_count": 477,
   "metadata": {},
   "outputs": [],
   "source": [
    "X_train_commerce_services_GDP = np.reshape(X_train_commerce_services_GDP,(12,3,1))"
   ]
  },
  {
   "cell_type": "code",
   "execution_count": 478,
   "metadata": {},
   "outputs": [],
   "source": [
    "test_data_commerce_services_GDP = scaled_commerce_services_GDP[training_data_len_commerce_services_GDP-3:,:]\n",
    "\n",
    "X_test_commerce_services_GDP = []\n",
    "Y_test_commerce_services_GDP = commerce_services_GDP[training_data_len_commerce_services_GDP:]\n",
    "\n",
    "for i in range(3, len(test_data_commerce_services_GDP)):\n",
    "    X_test_commerce_services_GDP.append(test_data_commerce_services_GDP[i-3:i,0])     \n",
    "    \n",
    "\n",
    "X_test_commerce_services_GDP, Y_test_commerce_services_GDP = np.array(X_test_commerce_services_GDP), np.array(Y_test_commerce_services_GDP)"
   ]
  },
  {
   "cell_type": "code",
   "execution_count": 479,
   "metadata": {},
   "outputs": [
    {
     "data": {
      "text/plain": [
       "(3, 3)"
      ]
     },
     "execution_count": 479,
     "metadata": {},
     "output_type": "execute_result"
    }
   ],
   "source": [
    "X_test_commerce_services_GDP.shape"
   ]
  },
  {
   "cell_type": "code",
   "execution_count": 480,
   "metadata": {},
   "outputs": [],
   "source": [
    "X_test_commerce_services_GDP = np.reshape(X_test_commerce_services_GDP,(3,3,1))"
   ]
  },
  {
   "cell_type": "code",
   "execution_count": 524,
   "metadata": {},
   "outputs": [
    {
     "name": "stdout",
     "output_type": "stream",
     "text": [
      "Model: \"sequential_43\"\n",
      "_________________________________________________________________\n",
      " Layer (type)                Output Shape              Param #   \n",
      "=================================================================\n",
      " lstm_86 (LSTM)              (None, 3, 30)             3840      \n",
      "                                                                 \n",
      " lstm_87 (LSTM)              (None, 30)                7320      \n",
      "                                                                 \n",
      " dense_86 (Dense)            (None, 10)                310       \n",
      "                                                                 \n",
      " dense_87 (Dense)            (None, 1)                 11        \n",
      "                                                                 \n",
      "=================================================================\n",
      "Total params: 11,481\n",
      "Trainable params: 11,481\n",
      "Non-trainable params: 0\n",
      "_________________________________________________________________\n"
     ]
    }
   ],
   "source": [
    "model_commerce_services_GDP = keras.Sequential()      #sequential model is used as we are working with sequential data and we are trying to predict future sequential data\n",
    "model_commerce_services_GDP.add(LSTM(30, return_sequences = True, input_shape = (3,1)))\n",
    "model_commerce_services_GDP.add(LSTM(30, return_sequences = False))\n",
    "model_commerce_services_GDP.add(layers.Dense(10))\n",
    "model_commerce_services_GDP.add(layers.Dense(1))\n",
    "model_commerce_services_GDP.summary()"
   ]
  },
  {
   "cell_type": "code",
   "execution_count": 525,
   "metadata": {},
   "outputs": [
    {
     "name": "stdout",
     "output_type": "stream",
     "text": [
      "Epoch 1/3\n",
      "12/12 [==============================] - 5s 5ms/step - loss: 70550290432.0000\n",
      "Epoch 2/3\n",
      "12/12 [==============================] - 0s 9ms/step - loss: 70550028288.0000\n",
      "Epoch 3/3\n",
      "12/12 [==============================] - 0s 10ms/step - loss: 70549651456.0000\n"
     ]
    },
    {
     "data": {
      "text/plain": [
       "<keras.callbacks.History at 0x1edad3b2770>"
      ]
     },
     "execution_count": 525,
     "metadata": {},
     "output_type": "execute_result"
    }
   ],
   "source": [
    "model_commerce_services_GDP.compile(optimizer = 'adam', loss = 'mean_squared_error')\n",
    "model_commerce_services_GDP.fit(X_train_commerce_services_GDP, Y_train_commerce_services_GDP, batch_size =1, epochs=3) "
   ]
  },
  {
   "cell_type": "code",
   "execution_count": 526,
   "metadata": {},
   "outputs": [
    {
     "name": "stdout",
     "output_type": "stream",
     "text": [
      "1/1 [==============================] - 1s 1s/step\n"
     ]
    },
    {
     "data": {
      "text/plain": [
       "108844.59634572142"
      ]
     },
     "execution_count": 526,
     "metadata": {},
     "output_type": "execute_result"
    }
   ],
   "source": [
    "predicted_commerce_services_GDP = model_commerce_services_GDP.predict(X_test_commerce_services_GDP)\n",
    "predicted_commerce_services_GDP_unscaled = scaler.inverse_transform(predicted_commerce_services_GDP)\n",
    "RMSE_commerce_services_GDP = np.sqrt(mean_squared_error(Y_test_commerce_services_GDP, predicted_commerce_services_GDP_unscaled))\n",
    "RMSE_commerce_services_GDP"
   ]
  },
  {
   "cell_type": "code",
   "execution_count": 527,
   "metadata": {},
   "outputs": [
    {
     "data": {
      "text/plain": [
       "42.298244310600154"
      ]
     },
     "execution_count": 527,
     "metadata": {},
     "output_type": "execute_result"
    }
   ],
   "source": [
    "mean_commerce_services_GDP = commerce_services_energy_and_GDP['GDP Generation'].mean()\n",
    "percentage_error_commerce_services_GDP = RMSE_commerce_services_GDP/mean_commerce_services_GDP*100\n",
    "percentage_error_commerce_services_GDP"
   ]
  },
  {
   "cell_type": "code",
   "execution_count": 528,
   "metadata": {},
   "outputs": [
    {
     "data": {
      "text/plain": [
       "(1, 3)"
      ]
     },
     "execution_count": 528,
     "metadata": {},
     "output_type": "execute_result"
    }
   ],
   "source": [
    "#Now to try to predict what will be the GDP contributed by commerce/services sector in 2023, indicative of the growth of this sector next year.\n",
    "last_3years_commerce_services_GDP = Y_test_commerce_services_GDP[0:]\n",
    "last_3years_commerce_services_GDP = last_3years_commerce_services_GDP.reshape(1,-1)\n",
    "last_3years_commerce_services_GDP_list = list(last_3years_commerce_services_GDP)\n",
    "last_3years_commerce_services_GDP.shape"
   ]
  },
  {
   "cell_type": "code",
   "execution_count": 529,
   "metadata": {},
   "outputs": [
    {
     "name": "stdout",
     "output_type": "stream",
     "text": [
      "1/1 [==============================] - 0s 93ms/step\n",
      "[[377119.39999773]]\n"
     ]
    }
   ],
   "source": [
    "predicted_output_commerce_services_GDP = []           \n",
    "last_3years_commerce_services_GDP = last_3years_commerce_services_GDP.reshape((1,3,1))          \n",
    "future_predict_commerce_services_GDP = model_commerce_services_GDP.predict(last_3years_commerce_services_GDP,verbose=1)\n",
    "last_3years_commerce_services_GDP_list.extend(future_predict_commerce_services_GDP[0].tolist())         \n",
    "predicted_output_commerce_services_GDP.extend(future_predict_commerce_services_GDP.tolist())  \n",
    "predicted_output_commerce_services_GDP = scaler.inverse_transform(predicted_output_commerce_services_GDP)\n",
    "predicted_commerce_services_GDP = predicted_output_commerce_services_GDP-((percentage_error_commerce_services_GDP/100)*predicted_output_commerce_services_GDP)\n",
    "\n",
    "print(predicted_commerce_services_GDP)\n",
    "#predicted commerce/services GDP in 2023"
   ]
  },
  {
   "attachments": {},
   "cell_type": "markdown",
   "metadata": {},
   "source": [
    "##### Lastly, for average income of Singapore residents"
   ]
  },
  {
   "cell_type": "code",
   "execution_count": 550,
   "metadata": {},
   "outputs": [],
   "source": [
    "median_income_SG_residents = median_income['Median Income'].values\n",
    "training_data_len_median_income = math.ceil(len(median_income_SG_residents)*0.8)"
   ]
  },
  {
   "cell_type": "code",
   "execution_count": 551,
   "metadata": {},
   "outputs": [
    {
     "data": {
      "text/plain": [
       "14"
      ]
     },
     "execution_count": 551,
     "metadata": {},
     "output_type": "execute_result"
    }
   ],
   "source": [
    "training_data_len_median_income"
   ]
  },
  {
   "cell_type": "code",
   "execution_count": 552,
   "metadata": {},
   "outputs": [],
   "source": [
    "median_income_SG_residents = median_income_SG_residents.reshape(-1,1)"
   ]
  },
  {
   "cell_type": "code",
   "execution_count": 554,
   "metadata": {},
   "outputs": [],
   "source": [
    "scaled_median_income = scaler.fit_transform(median_income_SG_residents.reshape(-1,1))     #normalizing the data as data does not follow a Gaussian distribution\n",
    "training_data_median_income = median_income_SG_residents[0:training_data_len_median_income,:]       #80% of the scaled median income data to be used as the training data\n",
    "\n",
    "X_train_median_income = []\n",
    "Y_train_median_income = []\n",
    "\n",
    "for i in range(3,len(training_data_median_income)):\n",
    "    X_train_median_income.append(training_data_median_income[i-3:i,0])     #x_train data consists of the median income of the past 3 years\n",
    "    Y_train_median_income.append(training_data_median_income[i,0])          #y_train data (label data) consists of the median income of the next corresponding 10 years\n",
    "\n",
    "\n",
    "X_train_median_income,  Y_train_median_income = np.array(X_train_median_income), np.array(Y_train_median_income)"
   ]
  },
  {
   "cell_type": "code",
   "execution_count": 555,
   "metadata": {},
   "outputs": [
    {
     "data": {
      "text/plain": [
       "(11, 3)"
      ]
     },
     "execution_count": 555,
     "metadata": {},
     "output_type": "execute_result"
    }
   ],
   "source": [
    "X_train_median_income.shape"
   ]
  },
  {
   "cell_type": "code",
   "execution_count": 556,
   "metadata": {},
   "outputs": [],
   "source": [
    "X_train_median_income = np.reshape(X_train_median_income,(11,3,1))"
   ]
  },
  {
   "cell_type": "code",
   "execution_count": 582,
   "metadata": {},
   "outputs": [],
   "source": [
    "test_data_median_income = scaled_median_income[training_data_len_median_income-3:,:]\n",
    "\n",
    "X_test_median_income = []\n",
    "Y_test_median_income = median_income_SG_residents[training_data_len_median_income:]\n",
    "\n",
    "for i in range(3, len(test_data_median_income)):\n",
    "    X_test_median_income.append(test_data_commerce_services_GDP[i-3:i,0])     \n",
    "    \n",
    "\n",
    "X_test_median_income, Y_test_median_income = np.array(X_test_median_income), np.array(Y_test_median_income)\n"
   ]
  },
  {
   "cell_type": "code",
   "execution_count": 571,
   "metadata": {},
   "outputs": [
    {
     "data": {
      "text/plain": [
       "(3, 3)"
      ]
     },
     "execution_count": 571,
     "metadata": {},
     "output_type": "execute_result"
    }
   ],
   "source": [
    "X_test_median_income.shape"
   ]
  },
  {
   "cell_type": "code",
   "execution_count": 586,
   "metadata": {},
   "outputs": [],
   "source": [
    "X_test_median_income = np.reshape(X_test_median_income,(3,3))"
   ]
  },
  {
   "cell_type": "code",
   "execution_count": 648,
   "metadata": {},
   "outputs": [
    {
     "name": "stdout",
     "output_type": "stream",
     "text": [
      "Model: \"sequential_52\"\n",
      "_________________________________________________________________\n",
      " Layer (type)                Output Shape              Param #   \n",
      "=================================================================\n",
      " lstm_104 (LSTM)             (None, 3, 20)             1760      \n",
      "                                                                 \n",
      " lstm_105 (LSTM)             (None, 20)                3280      \n",
      "                                                                 \n",
      " dense_104 (Dense)           (None, 5)                 105       \n",
      "                                                                 \n",
      " dense_105 (Dense)           (None, 1)                 6         \n",
      "                                                                 \n",
      "=================================================================\n",
      "Total params: 5,151\n",
      "Trainable params: 5,151\n",
      "Non-trainable params: 0\n",
      "_________________________________________________________________\n"
     ]
    }
   ],
   "source": [
    "model_median_income = keras.Sequential()      #sequential model is used as we are working with sequential data and we are trying to predict future sequential data\n",
    "model_median_income.add(LSTM(20, return_sequences = True, input_shape = (3,1)))\n",
    "model_median_income.add(LSTM(20, return_sequences = False))\n",
    "model_median_income.add(layers.Dense(5))\n",
    "model_median_income.add(layers.Dense(1))\n",
    "model_median_income.summary()"
   ]
  },
  {
   "cell_type": "code",
   "execution_count": 649,
   "metadata": {},
   "outputs": [
    {
     "name": "stdout",
     "output_type": "stream",
     "text": [
      "Epoch 1/3\n",
      "11/11 [==============================] - 8s 8ms/step - loss: 14417171.0000\n",
      "Epoch 2/3\n",
      "11/11 [==============================] - 0s 8ms/step - loss: 14412899.0000\n",
      "Epoch 3/3\n",
      "11/11 [==============================] - 0s 10ms/step - loss: 14407625.0000\n"
     ]
    },
    {
     "data": {
      "text/plain": [
       "<keras.callbacks.History at 0x1eded00be50>"
      ]
     },
     "execution_count": 649,
     "metadata": {},
     "output_type": "execute_result"
    }
   ],
   "source": [
    "model_median_income.compile(optimizer = 'adam', loss = 'mean_squared_error')\n",
    "model_median_income.fit(X_train_median_income, Y_train_median_income, batch_size =1, epochs=3) "
   ]
  },
  {
   "cell_type": "code",
   "execution_count": 650,
   "metadata": {},
   "outputs": [
    {
     "name": "stdout",
     "output_type": "stream",
     "text": [
      "1/1 [==============================] - 2s 2s/step\n"
     ]
    },
    {
     "data": {
      "text/plain": [
       "1472.6424396142286"
      ]
     },
     "execution_count": 650,
     "metadata": {},
     "output_type": "execute_result"
    }
   ],
   "source": [
    "predicted_median_income = model_median_income.predict(X_test_median_income)\n",
    "predicted_median_income_unscaled = scaler.inverse_transform(predicted_median_income)\n",
    "RMSE_median_income = np.sqrt(mean_squared_error(Y_test_median_income, predicted_median_income_unscaled))\n",
    "RMSE_median_income\n"
   ]
  },
  {
   "cell_type": "code",
   "execution_count": 651,
   "metadata": {},
   "outputs": [
    {
     "data": {
      "text/plain": [
       "39.399634052724835"
      ]
     },
     "execution_count": 651,
     "metadata": {},
     "output_type": "execute_result"
    }
   ],
   "source": [
    "avg_median_income = median_income['Median Income'].mean()\n",
    "avg_median_income\n",
    "percentage_error_median_income = RMSE_median_income/avg_median_income*100\n",
    "percentage_error_median_income"
   ]
  },
  {
   "cell_type": "code",
   "execution_count": 646,
   "metadata": {},
   "outputs": [
    {
     "data": {
      "text/plain": [
       "(1, 3)"
      ]
     },
     "execution_count": 646,
     "metadata": {},
     "output_type": "execute_result"
    }
   ],
   "source": [
    "#predicting the median income in 2023\n",
    "last_3years_median_income = Y_test_commerce_services_GDP[0:]\n",
    "last_3years_median_income = last_3years_median_income.reshape(1,-1)\n",
    "last_3years_median_income_list = list(last_3years_median_income)\n",
    "last_3years_median_income.shape"
   ]
  },
  {
   "cell_type": "code",
   "execution_count": 652,
   "metadata": {},
   "outputs": [
    {
     "name": "stdout",
     "output_type": "stream",
     "text": [
      "1/1 [==============================] - 2s 2s/step\n",
      "[[5179.88480091]]\n"
     ]
    }
   ],
   "source": [
    "predicted_output_median_income = []           \n",
    "last_3years_median_income = last_3years_median_income.reshape((1,3,1))      #reshaping the last 3 years of income data into a 3D array to feed into LSTM model      \n",
    "future_predict_median_income = model_median_income.predict(last_3years_median_income,verbose=1)\n",
    "last_3years_median_income_list.extend(future_predict_median_income[0].tolist())      #adding the predicted output into the median income list \n",
    "predicted_output_median_income.extend(future_predict_median_income.tolist())    #adding the predicted output into the predicted output list\n",
    "predicted_output_median_income = scaler.inverse_transform(predicted_output_median_income)\n",
    "predicted_median_income_2023 = predicted_output_median_income-((percentage_error_median_income/100)*predicted_output_median_income)\n",
    "\n",
    "print(predicted_median_income_2023)\n",
    "#predicted median income in 2023"
   ]
  },
  {
   "attachments": {},
   "cell_type": "markdown",
   "metadata": {},
   "source": [
    "### Now we have predicted values of key parameters in 2023, we can feed the predicted data into another model to predict the electricity demand in 2023"
   ]
  },
  {
   "attachments": {},
   "cell_type": "markdown",
   "metadata": {},
   "source": [
    "#### Gathering data of key parameters and total electricity consumption into a single dataframe"
   ]
  },
  {
   "cell_type": "code",
   "execution_count": 845,
   "metadata": {},
   "outputs": [
    {
     "name": "stderr",
     "output_type": "stream",
     "text": [
      "C:\\Users\\USER\\AppData\\Local\\Temp\\ipykernel_9500\\347893150.py:1: SettingWithCopyWarning: \n",
      "A value is trying to be set on a copy of a slice from a DataFrame.\n",
      "Try using .loc[row_indexer,col_indexer] = value instead\n",
      "\n",
      "See the caveats in the documentation: https://pandas.pydata.org/pandas-docs/stable/user_guide/indexing.html#returning-a-view-versus-a-copy\n",
      "  overall_energy_load['Manufacturing GDP'] = manufacturing_energy_load['GDP Generation'].values\n",
      "C:\\Users\\USER\\AppData\\Local\\Temp\\ipykernel_9500\\347893150.py:2: SettingWithCopyWarning: \n",
      "A value is trying to be set on a copy of a slice from a DataFrame.\n",
      "Try using .loc[row_indexer,col_indexer] = value instead\n",
      "\n",
      "See the caveats in the documentation: https://pandas.pydata.org/pandas-docs/stable/user_guide/indexing.html#returning-a-view-versus-a-copy\n",
      "  overall_energy_load['Commerce/Services GDP'] = commerce_services_GDP\n",
      "C:\\Users\\USER\\AppData\\Local\\Temp\\ipykernel_9500\\347893150.py:3: SettingWithCopyWarning: \n",
      "A value is trying to be set on a copy of a slice from a DataFrame\n",
      "\n",
      "See the caveats in the documentation: https://pandas.pydata.org/pandas-docs/stable/user_guide/indexing.html#returning-a-view-versus-a-copy\n",
      "  overall_energy_load.drop(index=288,axis=0,inplace=True)\n",
      "C:\\Users\\USER\\AppData\\Local\\Temp\\ipykernel_9500\\347893150.py:4: SettingWithCopyWarning: \n",
      "A value is trying to be set on a copy of a slice from a DataFrame.\n",
      "Try using .loc[row_indexer,col_indexer] = value instead\n",
      "\n",
      "See the caveats in the documentation: https://pandas.pydata.org/pandas-docs/stable/user_guide/indexing.html#returning-a-view-versus-a-copy\n",
      "  overall_energy_load['Median Income'] = median_income['Median Income'].values\n",
      "C:\\Users\\USER\\AppData\\Local\\Temp\\ipykernel_9500\\347893150.py:5: SettingWithCopyWarning: \n",
      "A value is trying to be set on a copy of a slice from a DataFrame\n",
      "\n",
      "See the caveats in the documentation: https://pandas.pydata.org/pandas-docs/stable/user_guide/indexing.html#returning-a-view-versus-a-copy\n",
      "  overall_energy_load.replace(26933,53866,inplace=True)      #only data up till 1H 2022 is available, 2H 2022 will be assumed to be the same as 1H 2022. Electricity consumed in 2022 will be assumed to be double that consumed in 1H 2022.\n"
     ]
    },
    {
     "data": {
      "text/html": [
       "<div>\n",
       "<style scoped>\n",
       "    .dataframe tbody tr th:only-of-type {\n",
       "        vertical-align: middle;\n",
       "    }\n",
       "\n",
       "    .dataframe tbody tr th {\n",
       "        vertical-align: top;\n",
       "    }\n",
       "\n",
       "    .dataframe thead th {\n",
       "        text-align: right;\n",
       "    }\n",
       "</style>\n",
       "<table border=\"1\" class=\"dataframe\">\n",
       "  <thead>\n",
       "    <tr style=\"text-align: right;\">\n",
       "      <th></th>\n",
       "      <th>year</th>\n",
       "      <th>sector</th>\n",
       "      <th>sub_sector</th>\n",
       "      <th>consumption_GWh</th>\n",
       "      <th>Manufacturing GDP</th>\n",
       "      <th>Commerce/Services GDP</th>\n",
       "      <th>Median Income</th>\n",
       "    </tr>\n",
       "  </thead>\n",
       "  <tbody>\n",
       "    <tr>\n",
       "      <th>289</th>\n",
       "      <td>2006</td>\n",
       "      <td>Overall</td>\n",
       "      <td>Overall</td>\n",
       "      <td>36801.8</td>\n",
       "      <td>73075.0</td>\n",
       "      <td>146200.2</td>\n",
       "      <td>2449</td>\n",
       "    </tr>\n",
       "    <tr>\n",
       "      <th>290</th>\n",
       "      <td>2007</td>\n",
       "      <td>Overall</td>\n",
       "      <td>Overall</td>\n",
       "      <td>38304.9</td>\n",
       "      <td>77087.9</td>\n",
       "      <td>172146.6</td>\n",
       "      <td>2543</td>\n",
       "    </tr>\n",
       "    <tr>\n",
       "      <th>291</th>\n",
       "      <td>2008</td>\n",
       "      <td>Overall</td>\n",
       "      <td>Overall</td>\n",
       "      <td>38986.9</td>\n",
       "      <td>72476.1</td>\n",
       "      <td>177067.3</td>\n",
       "      <td>2897</td>\n",
       "    </tr>\n",
       "    <tr>\n",
       "      <th>292</th>\n",
       "      <td>2009</td>\n",
       "      <td>Overall</td>\n",
       "      <td>Overall</td>\n",
       "      <td>38822.9</td>\n",
       "      <td>76407.5</td>\n",
       "      <td>181693.7</td>\n",
       "      <td>2927</td>\n",
       "    </tr>\n",
       "    <tr>\n",
       "      <th>293</th>\n",
       "      <td>2010</td>\n",
       "      <td>Overall</td>\n",
       "      <td>Overall</td>\n",
       "      <td>42251.8</td>\n",
       "      <td>87212.2</td>\n",
       "      <td>210487.7</td>\n",
       "      <td>3000</td>\n",
       "    </tr>\n",
       "    <tr>\n",
       "      <th>294</th>\n",
       "      <td>2011</td>\n",
       "      <td>Overall</td>\n",
       "      <td>Overall</td>\n",
       "      <td>43007.1</td>\n",
       "      <td>88875.7</td>\n",
       "      <td>228920.2</td>\n",
       "      <td>3249</td>\n",
       "    </tr>\n",
       "    <tr>\n",
       "      <th>295</th>\n",
       "      <td>2012</td>\n",
       "      <td>Overall</td>\n",
       "      <td>Overall</td>\n",
       "      <td>44200.7</td>\n",
       "      <td>92397.2</td>\n",
       "      <td>239471.7</td>\n",
       "      <td>3480</td>\n",
       "    </tr>\n",
       "    <tr>\n",
       "      <th>296</th>\n",
       "      <td>2013</td>\n",
       "      <td>Overall</td>\n",
       "      <td>Overall</td>\n",
       "      <td>44948.8</td>\n",
       "      <td>90356.4</td>\n",
       "      <td>255092.1</td>\n",
       "      <td>3705</td>\n",
       "    </tr>\n",
       "    <tr>\n",
       "      <th>297</th>\n",
       "      <td>2014</td>\n",
       "      <td>Overall</td>\n",
       "      <td>Overall</td>\n",
       "      <td>46403.0</td>\n",
       "      <td>96557.6</td>\n",
       "      <td>262844.0</td>\n",
       "      <td>3770</td>\n",
       "    </tr>\n",
       "    <tr>\n",
       "      <th>298</th>\n",
       "      <td>2015</td>\n",
       "      <td>Overall</td>\n",
       "      <td>Overall</td>\n",
       "      <td>47513.9</td>\n",
       "      <td>102984.3</td>\n",
       "      <td>278103.0</td>\n",
       "      <td>3949</td>\n",
       "    </tr>\n",
       "    <tr>\n",
       "      <th>299</th>\n",
       "      <td>2016</td>\n",
       "      <td>Overall</td>\n",
       "      <td>Overall</td>\n",
       "      <td>48623.0</td>\n",
       "      <td>102634.5</td>\n",
       "      <td>293660.7</td>\n",
       "      <td>4056</td>\n",
       "    </tr>\n",
       "    <tr>\n",
       "      <th>300</th>\n",
       "      <td>2017</td>\n",
       "      <td>Overall</td>\n",
       "      <td>Overall</td>\n",
       "      <td>49637.9</td>\n",
       "      <td>111655.9</td>\n",
       "      <td>315949.8</td>\n",
       "      <td>4232</td>\n",
       "    </tr>\n",
       "    <tr>\n",
       "      <th>301</th>\n",
       "      <td>2018</td>\n",
       "      <td>Overall</td>\n",
       "      <td>Overall</td>\n",
       "      <td>50460.9</td>\n",
       "      <td>129248.4</td>\n",
       "      <td>334917.7</td>\n",
       "      <td>4437</td>\n",
       "    </tr>\n",
       "    <tr>\n",
       "      <th>302</th>\n",
       "      <td>2019</td>\n",
       "      <td>Overall</td>\n",
       "      <td>Overall</td>\n",
       "      <td>51730.1</td>\n",
       "      <td>123654.4</td>\n",
       "      <td>344169.0</td>\n",
       "      <td>4563</td>\n",
       "    </tr>\n",
       "    <tr>\n",
       "      <th>303</th>\n",
       "      <td>2020</td>\n",
       "      <td>Overall</td>\n",
       "      <td>Overall</td>\n",
       "      <td>50779.6</td>\n",
       "      <td>112820.7</td>\n",
       "      <td>322627.6</td>\n",
       "      <td>4534</td>\n",
       "    </tr>\n",
       "    <tr>\n",
       "      <th>304</th>\n",
       "      <td>2021</td>\n",
       "      <td>Overall</td>\n",
       "      <td>Overall</td>\n",
       "      <td>53483.5</td>\n",
       "      <td>132999.6</td>\n",
       "      <td>351466.5</td>\n",
       "      <td>4680</td>\n",
       "    </tr>\n",
       "    <tr>\n",
       "      <th>305</th>\n",
       "      <td>2022</td>\n",
       "      <td>Overall</td>\n",
       "      <td>Overall</td>\n",
       "      <td>53866.0</td>\n",
       "      <td>145590.0</td>\n",
       "      <td>387078.8</td>\n",
       "      <td>5070</td>\n",
       "    </tr>\n",
       "  </tbody>\n",
       "</table>\n",
       "</div>"
      ],
      "text/plain": [
       "     year   sector sub_sector  consumption_GWh  Manufacturing GDP  \\\n",
       "289  2006  Overall    Overall          36801.8            73075.0   \n",
       "290  2007  Overall    Overall          38304.9            77087.9   \n",
       "291  2008  Overall    Overall          38986.9            72476.1   \n",
       "292  2009  Overall    Overall          38822.9            76407.5   \n",
       "293  2010  Overall    Overall          42251.8            87212.2   \n",
       "294  2011  Overall    Overall          43007.1            88875.7   \n",
       "295  2012  Overall    Overall          44200.7            92397.2   \n",
       "296  2013  Overall    Overall          44948.8            90356.4   \n",
       "297  2014  Overall    Overall          46403.0            96557.6   \n",
       "298  2015  Overall    Overall          47513.9           102984.3   \n",
       "299  2016  Overall    Overall          48623.0           102634.5   \n",
       "300  2017  Overall    Overall          49637.9           111655.9   \n",
       "301  2018  Overall    Overall          50460.9           129248.4   \n",
       "302  2019  Overall    Overall          51730.1           123654.4   \n",
       "303  2020  Overall    Overall          50779.6           112820.7   \n",
       "304  2021  Overall    Overall          53483.5           132999.6   \n",
       "305  2022  Overall    Overall          53866.0           145590.0   \n",
       "\n",
       "     Commerce/Services GDP  Median Income  \n",
       "289               146200.2           2449  \n",
       "290               172146.6           2543  \n",
       "291               177067.3           2897  \n",
       "292               181693.7           2927  \n",
       "293               210487.7           3000  \n",
       "294               228920.2           3249  \n",
       "295               239471.7           3480  \n",
       "296               255092.1           3705  \n",
       "297               262844.0           3770  \n",
       "298               278103.0           3949  \n",
       "299               293660.7           4056  \n",
       "300               315949.8           4232  \n",
       "301               334917.7           4437  \n",
       "302               344169.0           4563  \n",
       "303               322627.6           4534  \n",
       "304               351466.5           4680  \n",
       "305               387078.8           5070  "
      ]
     },
     "execution_count": 845,
     "metadata": {},
     "output_type": "execute_result"
    }
   ],
   "source": [
    "overall_energy_load['Manufacturing GDP'] = manufacturing_energy_load['GDP Generation'].values\n",
    "overall_energy_load['Commerce/Services GDP'] = commerce_services_GDP\n",
    "overall_energy_load.drop(index=288,axis=0,inplace=True)\n",
    "overall_energy_load['Median Income'] = median_income['Median Income'].values\n",
    "overall_energy_load.replace(26933,53866,inplace=True)      #only data up till 1H 2022 is available, 2H 2022 will be assumed to be the same as 1H 2022. Electricity consumed in 2022 will be assumed to be double that consumed in 1H 2022.\n",
    "overall_energy_load"
   ]
  },
  {
   "attachments": {},
   "cell_type": "markdown",
   "metadata": {},
   "source": [
    "#### Separating the features and labels + train-test split"
   ]
  },
  {
   "cell_type": "code",
   "execution_count": 730,
   "metadata": {},
   "outputs": [],
   "source": [
    "from sklearn.model_selection import train_test_split\n",
    "X = overall_energy_load.drop(columns = ['sector','sub_sector','year', 'consumption_GWh'])\n",
    "Y = overall_energy_load['consumption_GWh']\n",
    "\n",
    "X_train_electricity_demand , X_test_electricity_demand, Y_train_electricity_demand, Y_test_electricity_demand = train_test_split(X,Y, test_size=0.2, random_state=555)"
   ]
  },
  {
   "cell_type": "code",
   "execution_count": 723,
   "metadata": {},
   "outputs": [
    {
     "data": {
      "text/plain": [
       "(13, 3)"
      ]
     },
     "execution_count": 723,
     "metadata": {},
     "output_type": "execute_result"
    }
   ],
   "source": [
    "X_train_electricity_demand.shape"
   ]
  },
  {
   "cell_type": "code",
   "execution_count": 724,
   "metadata": {},
   "outputs": [
    {
     "data": {
      "text/plain": [
       "(4, 3)"
      ]
     },
     "execution_count": 724,
     "metadata": {},
     "output_type": "execute_result"
    }
   ],
   "source": [
    "X_test_electricity_demand.shape"
   ]
  },
  {
   "cell_type": "code",
   "execution_count": 731,
   "metadata": {},
   "outputs": [
    {
     "data": {
      "text/plain": [
       "289    36801.8\n",
       "290    38304.9\n",
       "291    38986.9\n",
       "292    38822.9\n",
       "293    42251.8\n",
       "294    43007.1\n",
       "295    44200.7\n",
       "296    44948.8\n",
       "297    46403.0\n",
       "298    47513.9\n",
       "299    48623.0\n",
       "300    49637.9\n",
       "301    50460.9\n",
       "302    51730.1\n",
       "303    50779.6\n",
       "304    53483.5\n",
       "305    53866.0\n",
       "Name: consumption_GWh, dtype: float64"
      ]
     },
     "execution_count": 731,
     "metadata": {},
     "output_type": "execute_result"
    }
   ],
   "source": [
    "Y"
   ]
  },
  {
   "attachments": {},
   "cell_type": "markdown",
   "metadata": {},
   "source": [
    "#### Using base linear regression to set the standard"
   ]
  },
  {
   "cell_type": "code",
   "execution_count": 879,
   "metadata": {},
   "outputs": [
    {
     "data": {
      "text/html": [
       "<div>\n",
       "<style scoped>\n",
       "    .dataframe tbody tr th:only-of-type {\n",
       "        vertical-align: middle;\n",
       "    }\n",
       "\n",
       "    .dataframe tbody tr th {\n",
       "        vertical-align: top;\n",
       "    }\n",
       "\n",
       "    .dataframe thead th {\n",
       "        text-align: right;\n",
       "    }\n",
       "</style>\n",
       "<table border=\"1\" class=\"dataframe\">\n",
       "  <thead>\n",
       "    <tr style=\"text-align: right;\">\n",
       "      <th></th>\n",
       "      <th>Actual</th>\n",
       "      <th>Predicted</th>\n",
       "    </tr>\n",
       "  </thead>\n",
       "  <tbody>\n",
       "    <tr>\n",
       "      <th>292</th>\n",
       "      <td>38822.9</td>\n",
       "      <td>39746.425439</td>\n",
       "    </tr>\n",
       "    <tr>\n",
       "      <th>300</th>\n",
       "      <td>49637.9</td>\n",
       "      <td>50062.171896</td>\n",
       "    </tr>\n",
       "    <tr>\n",
       "      <th>296</th>\n",
       "      <td>44948.8</td>\n",
       "      <td>45587.281929</td>\n",
       "    </tr>\n",
       "    <tr>\n",
       "      <th>305</th>\n",
       "      <td>53866.0</td>\n",
       "      <td>55398.346969</td>\n",
       "    </tr>\n",
       "  </tbody>\n",
       "</table>\n",
       "</div>"
      ],
      "text/plain": [
       "      Actual     Predicted\n",
       "292  38822.9  39746.425439\n",
       "300  49637.9  50062.171896\n",
       "296  44948.8  45587.281929\n",
       "305  53866.0  55398.346969"
      ]
     },
     "execution_count": 879,
     "metadata": {},
     "output_type": "execute_result"
    }
   ],
   "source": [
    "from sklearn.linear_model import LinearRegression\n",
    "model_linearregression =  LinearRegression()\n",
    "model_linearregression.fit(X_train_electricity_demand,Y_train_electricity_demand)\n",
    "linear_regression_pred = model_linearregression.predict(X_test_electricity_demand)\n",
    "actual_vs_pred_LR = pd.DataFrame({'Actual': Y_test_electricity_demand, 'Predicted': linear_regression_pred})\n",
    "actual_vs_pred_LR"
   ]
  },
  {
   "cell_type": "code",
   "execution_count": 733,
   "metadata": {},
   "outputs": [
    {
     "name": "stdout",
     "output_type": "stream",
     "text": [
      "24833.74888027687\n",
      "[-0.02143175  0.06934103  1.34998135]\n"
     ]
    }
   ],
   "source": [
    "print(model_linearregression.intercept_)\n",
    "print(model_linearregression.coef_)"
   ]
  },
  {
   "cell_type": "code",
   "execution_count": 880,
   "metadata": {},
   "outputs": [
    {
     "name": "stdout",
     "output_type": "stream",
     "text": [
      "973.2230326376903\n",
      "2.1216091084847397\n"
     ]
    }
   ],
   "source": [
    "#Linear Regression model evaluation using RMSE\n",
    "from sklearn import metrics\n",
    "\n",
    "RMSE_linear_regression = np.sqrt(metrics.mean_squared_error(Y_test_electricity_demand, linear_regression_pred))\n",
    "print(RMSE_linear_regression)\n",
    "mean_electricity_demand = overall_energy_load['consumption_GWh'].mean()\n",
    "percentage_error_LR = RMSE_linear_regression/mean_electricity_demand*100\n",
    "print(percentage_error_LR)"
   ]
  },
  {
   "cell_type": "code",
   "execution_count": 735,
   "metadata": {},
   "outputs": [
    {
     "data": {
      "text/plain": [
       "0.9697008820931494"
      ]
     },
     "execution_count": 735,
     "metadata": {},
     "output_type": "execute_result"
    }
   ],
   "source": [
    "r2_LR = metrics.r2_score(Y_test_electricity_demand , linear_regression_pred)\n",
    "r2_LR"
   ]
  },
  {
   "attachments": {},
   "cell_type": "markdown",
   "metadata": {},
   "source": [
    "#### Let's try some Regularized LR models"
   ]
  },
  {
   "cell_type": "code",
   "execution_count": 902,
   "metadata": {},
   "outputs": [
    {
     "name": "stderr",
     "output_type": "stream",
     "text": [
      "c:\\Users\\USER\\anaconda3\\envs\\DS102\\lib\\site-packages\\sklearn\\linear_model\\_coordinate_descent.py:648: ConvergenceWarning: Objective did not converge. You might want to increase the number of iterations, check the scale of the features or consider increasing regularisation. Duality gap: 1.220e+06, tolerance: 3.579e+04\n",
      "  model = cd_fast.enet_coordinate_descent(\n"
     ]
    },
    {
     "data": {
      "text/html": [
       "<div>\n",
       "<style scoped>\n",
       "    .dataframe tbody tr th:only-of-type {\n",
       "        vertical-align: middle;\n",
       "    }\n",
       "\n",
       "    .dataframe tbody tr th {\n",
       "        vertical-align: top;\n",
       "    }\n",
       "\n",
       "    .dataframe thead th {\n",
       "        text-align: right;\n",
       "    }\n",
       "</style>\n",
       "<table border=\"1\" class=\"dataframe\">\n",
       "  <thead>\n",
       "    <tr style=\"text-align: right;\">\n",
       "      <th></th>\n",
       "      <th>Actual</th>\n",
       "      <th>Predicted</th>\n",
       "    </tr>\n",
       "  </thead>\n",
       "  <tbody>\n",
       "    <tr>\n",
       "      <th>292</th>\n",
       "      <td>38822.9</td>\n",
       "      <td>39746.425235</td>\n",
       "    </tr>\n",
       "    <tr>\n",
       "      <th>300</th>\n",
       "      <td>49637.9</td>\n",
       "      <td>50062.168757</td>\n",
       "    </tr>\n",
       "    <tr>\n",
       "      <th>296</th>\n",
       "      <td>44948.8</td>\n",
       "      <td>45587.276462</td>\n",
       "    </tr>\n",
       "    <tr>\n",
       "      <th>305</th>\n",
       "      <td>53866.0</td>\n",
       "      <td>55398.352341</td>\n",
       "    </tr>\n",
       "  </tbody>\n",
       "</table>\n",
       "</div>"
      ],
      "text/plain": [
       "      Actual     Predicted\n",
       "292  38822.9  39746.425235\n",
       "300  49637.9  50062.168757\n",
       "296  44948.8  45587.276462\n",
       "305  53866.0  55398.352341"
      ]
     },
     "execution_count": 902,
     "metadata": {},
     "output_type": "execute_result"
    }
   ],
   "source": [
    "#Lasso Regression\n",
    "from sklearn.linear_model import Lasso\n",
    "model_Lasso = Lasso(alpha= 0.5)\n",
    "model_Lasso.fit(X_train_electricity_demand,Y_train_electricity_demand)\n",
    "lasso_pred = model_Lasso.predict(X_test_electricity_demand)\n",
    "actual_vs_pred_Lasso = pd.DataFrame({'Actual': Y_test_electricity_demand, 'Predicted': lasso_pred})\n",
    "actual_vs_pred_Lasso"
   ]
  },
  {
   "cell_type": "code",
   "execution_count": 903,
   "metadata": {},
   "outputs": [
    {
     "name": "stdout",
     "output_type": "stream",
     "text": [
      "973.2238602727367\n",
      "2.1216109127145972\n"
     ]
    }
   ],
   "source": [
    "RMSE_Lasso = np.sqrt(metrics.mean_squared_error(Y_test_electricity_demand, lasso_pred))\n",
    "print(RMSE_Lasso)\n",
    "percentage_error_Lasso = RMSE_Lasso/mean_electricity_demand*100\n",
    "print(percentage_error_Lasso)"
   ]
  },
  {
   "cell_type": "code",
   "execution_count": 908,
   "metadata": {},
   "outputs": [
    {
     "data": {
      "text/html": [
       "<div>\n",
       "<style scoped>\n",
       "    .dataframe tbody tr th:only-of-type {\n",
       "        vertical-align: middle;\n",
       "    }\n",
       "\n",
       "    .dataframe tbody tr th {\n",
       "        vertical-align: top;\n",
       "    }\n",
       "\n",
       "    .dataframe thead th {\n",
       "        text-align: right;\n",
       "    }\n",
       "</style>\n",
       "<table border=\"1\" class=\"dataframe\">\n",
       "  <thead>\n",
       "    <tr style=\"text-align: right;\">\n",
       "      <th></th>\n",
       "      <th>Actual</th>\n",
       "      <th>Predicted</th>\n",
       "    </tr>\n",
       "  </thead>\n",
       "  <tbody>\n",
       "    <tr>\n",
       "      <th>292</th>\n",
       "      <td>38822.9</td>\n",
       "      <td>39746.421639</td>\n",
       "    </tr>\n",
       "    <tr>\n",
       "      <th>300</th>\n",
       "      <td>49637.9</td>\n",
       "      <td>50062.175549</td>\n",
       "    </tr>\n",
       "    <tr>\n",
       "      <th>296</th>\n",
       "      <td>44948.8</td>\n",
       "      <td>45587.281835</td>\n",
       "    </tr>\n",
       "    <tr>\n",
       "      <th>305</th>\n",
       "      <td>53866.0</td>\n",
       "      <td>55398.345177</td>\n",
       "    </tr>\n",
       "  </tbody>\n",
       "</table>\n",
       "</div>"
      ],
      "text/plain": [
       "      Actual     Predicted\n",
       "292  38822.9  39746.421639\n",
       "300  49637.9  50062.175549\n",
       "296  44948.8  45587.281835\n",
       "305  53866.0  55398.345177"
      ]
     },
     "execution_count": 908,
     "metadata": {},
     "output_type": "execute_result"
    }
   ],
   "source": [
    "# Ridge Regression\n",
    "from sklearn.linear_model import Ridge \n",
    "model_Ridge = Ridge(alpha= 2)\n",
    "model_Ridge.fit(X_train_electricity_demand,Y_train_electricity_demand)\n",
    "ridge_pred = model_Ridge.predict(X_test_electricity_demand)\n",
    "actual_vs_pred_Ridge = pd.DataFrame({'Actual': Y_test_electricity_demand, 'Predicted': ridge_pred})\n",
    "actual_vs_pred_Ridge"
   ]
  },
  {
   "cell_type": "code",
   "execution_count": 909,
   "metadata": {},
   "outputs": [
    {
     "name": "stdout",
     "output_type": "stream",
     "text": [
      "973.2218084128889\n",
      "2.1216064396961865\n"
     ]
    }
   ],
   "source": [
    "RMSE_Ridge = np.sqrt(metrics.mean_squared_error(Y_test_electricity_demand, ridge_pred))\n",
    "print(RMSE_Ridge)\n",
    "percentage_error_Ridge = RMSE_Ridge/mean_electricity_demand*100\n",
    "print(percentage_error_Ridge)"
   ]
  },
  {
   "attachments": {},
   "cell_type": "markdown",
   "metadata": {},
   "source": [
    "#### Let's try XGBoost algorithm"
   ]
  },
  {
   "cell_type": "code",
   "execution_count": 904,
   "metadata": {},
   "outputs": [
    {
     "data": {
      "text/html": [
       "<div>\n",
       "<style scoped>\n",
       "    .dataframe tbody tr th:only-of-type {\n",
       "        vertical-align: middle;\n",
       "    }\n",
       "\n",
       "    .dataframe tbody tr th {\n",
       "        vertical-align: top;\n",
       "    }\n",
       "\n",
       "    .dataframe thead th {\n",
       "        text-align: right;\n",
       "    }\n",
       "</style>\n",
       "<table border=\"1\" class=\"dataframe\">\n",
       "  <thead>\n",
       "    <tr style=\"text-align: right;\">\n",
       "      <th></th>\n",
       "      <th>Actual</th>\n",
       "      <th>Predicted</th>\n",
       "    </tr>\n",
       "  </thead>\n",
       "  <tbody>\n",
       "    <tr>\n",
       "      <th>292</th>\n",
       "      <td>38822.9</td>\n",
       "      <td>38982.195312</td>\n",
       "    </tr>\n",
       "    <tr>\n",
       "      <th>300</th>\n",
       "      <td>49637.9</td>\n",
       "      <td>50383.070312</td>\n",
       "    </tr>\n",
       "    <tr>\n",
       "      <th>296</th>\n",
       "      <td>44948.8</td>\n",
       "      <td>43007.089844</td>\n",
       "    </tr>\n",
       "    <tr>\n",
       "      <th>305</th>\n",
       "      <td>53866.0</td>\n",
       "      <td>53483.488281</td>\n",
       "    </tr>\n",
       "  </tbody>\n",
       "</table>\n",
       "</div>"
      ],
      "text/plain": [
       "      Actual     Predicted\n",
       "292  38822.9  38982.195312\n",
       "300  49637.9  50383.070312\n",
       "296  44948.8  43007.089844\n",
       "305  53866.0  53483.488281"
      ]
     },
     "execution_count": 904,
     "metadata": {},
     "output_type": "execute_result"
    }
   ],
   "source": [
    "import xgboost as xgb\n",
    "model_xgb = xgb.sklearn.XGBRegressor(random_state = 123)\n",
    "model_xgb.fit(X_train_electricity_demand,Y_train_electricity_demand)\n",
    "xgb_pred = model_xgb.predict(X_test_electricity_demand)\n",
    "actual_vs_pred_xgb = pd.DataFrame({'Actual': Y_test_electricity_demand, 'Predicted': xgb_pred})\n",
    "actual_vs_pred_xgb"
   ]
  },
  {
   "cell_type": "code",
   "execution_count": 905,
   "metadata": {},
   "outputs": [
    {
     "name": "stdout",
     "output_type": "stream",
     "text": [
      "1060.3310022206872\n",
      "2.3115029514078946\n"
     ]
    }
   ],
   "source": [
    "RMSE_xgb = np.sqrt(metrics.mean_squared_error(Y_test_electricity_demand,xgb_pred))\n",
    "print(RMSE_xgb)\n",
    "percentage_error_xgb = RMSE_xgb/mean_electricity_demand*100\n",
    "print(percentage_error_xgb)"
   ]
  },
  {
   "cell_type": "code",
   "execution_count": 738,
   "metadata": {},
   "outputs": [
    {
     "data": {
      "text/plain": [
       "0.9640343306520027"
      ]
     },
     "execution_count": 738,
     "metadata": {},
     "output_type": "execute_result"
    }
   ],
   "source": [
    "r2_xgb = metrics.r2_score(Y_test_electricity_demand , xgb_pred)\n",
    "r2_xgb"
   ]
  },
  {
   "attachments": {},
   "cell_type": "markdown",
   "metadata": {},
   "source": [
    "#### Let's try SVM"
   ]
  },
  {
   "cell_type": "code",
   "execution_count": 739,
   "metadata": {},
   "outputs": [
    {
     "data": {
      "text/html": [
       "<div>\n",
       "<style scoped>\n",
       "    .dataframe tbody tr th:only-of-type {\n",
       "        vertical-align: middle;\n",
       "    }\n",
       "\n",
       "    .dataframe tbody tr th {\n",
       "        vertical-align: top;\n",
       "    }\n",
       "\n",
       "    .dataframe thead th {\n",
       "        text-align: right;\n",
       "    }\n",
       "</style>\n",
       "<table border=\"1\" class=\"dataframe\">\n",
       "  <thead>\n",
       "    <tr style=\"text-align: right;\">\n",
       "      <th></th>\n",
       "      <th>Actual</th>\n",
       "      <th>Predicted</th>\n",
       "    </tr>\n",
       "  </thead>\n",
       "  <tbody>\n",
       "    <tr>\n",
       "      <th>292</th>\n",
       "      <td>38822.9</td>\n",
       "      <td>46400.513032</td>\n",
       "    </tr>\n",
       "    <tr>\n",
       "      <th>300</th>\n",
       "      <td>49637.9</td>\n",
       "      <td>46404.727104</td>\n",
       "    </tr>\n",
       "    <tr>\n",
       "      <th>296</th>\n",
       "      <td>44948.8</td>\n",
       "      <td>46402.687936</td>\n",
       "    </tr>\n",
       "    <tr>\n",
       "      <th>305</th>\n",
       "      <td>53866.0</td>\n",
       "      <td>46405.880802</td>\n",
       "    </tr>\n",
       "  </tbody>\n",
       "</table>\n",
       "</div>"
      ],
      "text/plain": [
       "      Actual     Predicted\n",
       "292  38822.9  46400.513032\n",
       "300  49637.9  46404.727104\n",
       "296  44948.8  46402.687936\n",
       "305  53866.0  46405.880802"
      ]
     },
     "execution_count": 739,
     "metadata": {},
     "output_type": "execute_result"
    }
   ],
   "source": [
    "from sklearn.svm import SVR\n",
    "svr_model = SVR()\n",
    "svr_model.fit(X_train_electricity_demand,Y_train_electricity_demand)\n",
    "svr_pred = svr_model.predict(X_test_electricity_demand)\n",
    "actual_vs_pred_svr = pd.DataFrame({'Actual': Y_test_electricity_demand, 'Predicted': svr_pred})\n",
    "actual_vs_pred_svr"
   ]
  },
  {
   "cell_type": "code",
   "execution_count": 740,
   "metadata": {},
   "outputs": [
    {
     "name": "stdout",
     "output_type": "stream",
     "text": [
      "5604.480234866067\n",
      "12.217668423226808\n"
     ]
    }
   ],
   "source": [
    "RMSE_svr = np.sqrt(metrics.mean_squared_error(Y_test_electricity_demand,svr_pred))\n",
    "print(RMSE_svr)\n",
    "percentage_error_svr = RMSE_svr/mean_electricity_demand*100\n",
    "print(percentage_error_svr)"
   ]
  },
  {
   "cell_type": "code",
   "execution_count": 741,
   "metadata": {},
   "outputs": [
    {
     "data": {
      "text/plain": [
       "-0.004791405895304246"
      ]
     },
     "execution_count": 741,
     "metadata": {},
     "output_type": "execute_result"
    }
   ],
   "source": [
    "r2_svr= metrics.r2_score(Y_test_electricity_demand , svr_pred)\n",
    "r2_svr"
   ]
  },
  {
   "attachments": {},
   "cell_type": "markdown",
   "metadata": {},
   "source": [
    "#### Seems like a simple Linear Regression model still performs slightly better. Now, to feed the predicted 2023 values of the different features into the a regularized LR model to predict the total electricity demand of 2023"
   ]
  },
  {
   "cell_type": "code",
   "execution_count": 920,
   "metadata": {},
   "outputs": [
    {
     "name": "stdout",
     "output_type": "stream",
     "text": [
      "The predicted electricity demand of Singapore in 2023 is between 53288.0 GWh & 55234.0 GWh\n"
     ]
    }
   ],
   "source": [
    "manufacturing_GDP_2023 = predicted_manufacturing_GDP[0]\n",
    "commerce_services_GDP_2023 =predicted_commerce_services_GDP[0]\n",
    "median_income_2023 = predicted_median_income_2023[0]\n",
    "df_electricity_demand_predictor = pd.DataFrame({'Manufacturing GDP':manufacturing_GDP_2023,'Commerce/Services GDP':commerce_services_GDP_2023,'Median Income':median_income_2023})     \n",
    "\n",
    "predicted_electricity_demand_2023 = model_Lasso.predict(df_electricity_demand_predictor)\n",
    "predicted_electricity_demand_2023 = predicted_electricity_demand_2023[0]\n",
    "low_predicted_electricity_demand_2023 = round(predicted_electricity_demand_2023-RMSE_Lasso,0)   \n",
    "high_predicted_electricity_demand_2023 = round(predicted_electricity_demand_2023+RMSE_Lasso,0)   \n",
    "print (f'The predicted electricity demand of Singapore in 2023 is between {low_predicted_electricity_demand_2023} GWh & {high_predicted_electricity_demand_2023} GWh')\n",
    "\n"
   ]
  },
  {
   "cell_type": "code",
   "execution_count": 921,
   "metadata": {},
   "outputs": [
    {
     "data": {
      "text/plain": [
       "54260.997811335925"
      ]
     },
     "execution_count": 921,
     "metadata": {},
     "output_type": "execute_result"
    }
   ],
   "source": [
    "predicted_electricity_demand_2023"
   ]
  },
  {
   "cell_type": "code",
   "execution_count": 922,
   "metadata": {},
   "outputs": [
    {
     "name": "stderr",
     "output_type": "stream",
     "text": [
      "C:\\Users\\USER\\AppData\\Local\\Temp\\ipykernel_9500\\1495317239.py:10: FutureWarning: The frame.append method is deprecated and will be removed from pandas in a future version. Use pandas.concat instead.\n",
      "  overall_energy_load_2023 = overall_energy_load_2023.append(data_2023,ignore_index=True)\n"
     ]
    }
   ],
   "source": [
    "overall_energy_load_2023 = overall_energy_load.copy(deep=True)\n",
    "data_2023 = {'year':2023, \n",
    "            'sector':'Overall',\n",
    "            'sub_sector':'Overall',\n",
    "            'consumption_GWh':high_predicted_electricity_demand_2023,   #we will take the upper limit of the prediction range to visualize the prediction.\n",
    "            'Manufacturing GDP':manufacturing_GDP_2023,\n",
    "            'Commerce/Services GDP':commerce_services_GDP_2023,\n",
    "            'Median Income':median_income_2023}\n",
    "\n",
    "overall_energy_load_2023 = overall_energy_load_2023.append(data_2023,ignore_index=True)\n"
   ]
  },
  {
   "cell_type": "code",
   "execution_count": 923,
   "metadata": {},
   "outputs": [
    {
     "data": {
      "text/html": [
       "<div>\n",
       "<style scoped>\n",
       "    .dataframe tbody tr th:only-of-type {\n",
       "        vertical-align: middle;\n",
       "    }\n",
       "\n",
       "    .dataframe tbody tr th {\n",
       "        vertical-align: top;\n",
       "    }\n",
       "\n",
       "    .dataframe thead th {\n",
       "        text-align: right;\n",
       "    }\n",
       "</style>\n",
       "<table border=\"1\" class=\"dataframe\">\n",
       "  <thead>\n",
       "    <tr style=\"text-align: right;\">\n",
       "      <th></th>\n",
       "      <th>year</th>\n",
       "      <th>sector</th>\n",
       "      <th>sub_sector</th>\n",
       "      <th>consumption_GWh</th>\n",
       "      <th>Manufacturing GDP</th>\n",
       "      <th>Commerce/Services GDP</th>\n",
       "      <th>Median Income</th>\n",
       "    </tr>\n",
       "  </thead>\n",
       "  <tbody>\n",
       "    <tr>\n",
       "      <th>16</th>\n",
       "      <td>2022</td>\n",
       "      <td>Overall</td>\n",
       "      <td>Overall</td>\n",
       "      <td>53866.0</td>\n",
       "      <td>145590.0</td>\n",
       "      <td>387078.8</td>\n",
       "      <td>5070</td>\n",
       "    </tr>\n",
       "    <tr>\n",
       "      <th>17</th>\n",
       "      <td>2023</td>\n",
       "      <td>Overall</td>\n",
       "      <td>Overall</td>\n",
       "      <td>55234.0</td>\n",
       "      <td>[173358.25838195984]</td>\n",
       "      <td>[377119.3999977318]</td>\n",
       "      <td>[5179.884800906284]</td>\n",
       "    </tr>\n",
       "  </tbody>\n",
       "</table>\n",
       "</div>"
      ],
      "text/plain": [
       "    year   sector sub_sector  consumption_GWh     Manufacturing GDP  \\\n",
       "16  2022  Overall    Overall          53866.0              145590.0   \n",
       "17  2023  Overall    Overall          55234.0  [173358.25838195984]   \n",
       "\n",
       "   Commerce/Services GDP        Median Income  \n",
       "16              387078.8                 5070  \n",
       "17   [377119.3999977318]  [5179.884800906284]  "
      ]
     },
     "execution_count": 923,
     "metadata": {},
     "output_type": "execute_result"
    }
   ],
   "source": [
    "show_prediction = overall_energy_load_2023.iloc[-2:]\n",
    "show_prediction"
   ]
  },
  {
   "cell_type": "code",
   "execution_count": 924,
   "metadata": {},
   "outputs": [
    {
     "name": "stderr",
     "output_type": "stream",
     "text": [
      "c:\\Users\\USER\\anaconda3\\envs\\DS102\\lib\\site-packages\\pandas\\core\\indexes\\base.py:6982: FutureWarning: In a future version, the Index constructor will not infer numeric dtypes when passed object-dtype sequences (matching Series behavior)\n",
      "  return Index(sequences[0], name=names)\n"
     ]
    },
    {
     "data": {
      "text/plain": [
       "Text(0, 0.5, 'Electricity Consumption (GWh)')"
      ]
     },
     "execution_count": 924,
     "metadata": {},
     "output_type": "execute_result"
    },
    {
     "data": {
      "image/png": "[encoded data removed]",
      "text/plain": [
       "<Figure size 720x720 with 1 Axes>"
      ]
     },
     "metadata": {},
     "output_type": "display_data"
    }
   ],
   "source": [
    "fig6, ax = plt.subplots(figsize = (10,10))\n",
    "overall_energy_load.plot(x='year',y='consumption_GWh',ax=ax,color='r',marker='o',label = 'Consumption till 2022')\n",
    "show_prediction.plot(x='year',y='consumption_GWh',ax=ax,color='g',marker='o',label = 'Predicted Consumption till end 2023')\n",
    "ax.set_xlabel('Year')\n",
    "ax.set_ylabel('Electricity Consumption (GWh)')\n"
   ]
  },
  {
   "attachments": {},
   "cell_type": "markdown",
   "metadata": {},
   "source": [
    "### Some Annex plots"
   ]
  },
  {
   "cell_type": "code",
   "execution_count": 941,
   "metadata": {},
   "outputs": [
    {
     "name": "stderr",
     "output_type": "stream",
     "text": [
      "c:\\Users\\USER\\anaconda3\\envs\\DS102\\lib\\site-packages\\pandas\\core\\indexes\\base.py:6982: FutureWarning: In a future version, the Index constructor will not infer numeric dtypes when passed object-dtype sequences (matching Series behavior)\n",
      "  return Index(sequences[0], name=names)\n"
     ]
    },
    {
     "data": {
      "image/png": "[encoded data removed]",
      "text/plain": [
       "<Figure size 720x720 with 1 Axes>"
      ]
     },
     "metadata": {},
     "output_type": "display_data"
    }
   ],
   "source": [
    "#predicted GDP growth of manufacturing & commerc/services sector in 2023\n",
    "fig7, ax = plt.subplots(figsize = (10,10))\n",
    "overall_energy_load.plot(x='year',y='Manufacturing GDP',ax=ax,color='r',marker='o',label = 'Manufacturing GDP till 2022')\n",
    "overall_energy_load.plot(x='year',y='Commerce/Services GDP',ax=ax,color='b',marker='o',label = 'Commerce/Services GDP till 2022')\n",
    "show_prediction.plot(x='year',y='Manufacturing GDP',ax=ax,color='g',marker='o',label = 'Predicted GDP till end 2023')\n",
    "show_prediction.plot(x='year',y='Commerce/Services GDP',ax=ax,color='g',marker='o',label = 'Predicted GDP till end 2023')\n",
    "ax.set_xlabel('Year')\n",
    "ax.set_ylabel('Electricity Consumption (GWh)')\n",
    "ax.set_title('Projected GDP contribution in 2023')\n",
    "fig7.set_facecolor('white')"
   ]
  },
  {
   "cell_type": "code",
   "execution_count": 942,
   "metadata": {},
   "outputs": [
    {
     "name": "stderr",
     "output_type": "stream",
     "text": [
      "c:\\Users\\USER\\anaconda3\\envs\\DS102\\lib\\site-packages\\pandas\\core\\indexes\\base.py:6982: FutureWarning: In a future version, the Index constructor will not infer numeric dtypes when passed object-dtype sequences (matching Series behavior)\n",
      "  return Index(sequences[0], name=names)\n"
     ]
    },
    {
     "data": {
      "image/png": "[encoded data removed]",
      "text/plain": [
       "<Figure size 720x720 with 1 Axes>"
      ]
     },
     "metadata": {},
     "output_type": "display_data"
    }
   ],
   "source": [
    "#predicted growth in median income in 2023\n",
    "fig8, ax = plt.subplots(figsize = (10,10))\n",
    "overall_energy_load.plot(x='year',y='Median Income',ax=ax,color='purple',marker='o',label = 'Median Income till 2022')\n",
    "show_prediction.plot(x='year',y='Median Income',ax=ax,color='g',marker='o',label = 'Predicted Median Income')\n",
    "ax.set_xlabel('Year')\n",
    "ax.set_ylabel('Income (SGD)')\n",
    "ax.set_title('Projected Median Income')\n",
    "fig8.set_facecolor('White')"
   ]
  },
  {
   "cell_type": "code",
   "execution_count": null,
   "metadata": {},
   "outputs": [],
   "source": []
  }
 ],
 "metadata": {
  "kernelspec": {
   "display_name": "DS102",
   "language": "python",
   "name": "python3"
  },
  "language_info": {
   "codemirror_mode": {
    "name": "ipython",
    "version": 3
   },
   "file_extension": ".py",
   "mimetype": "text/x-python",
   "name": "python",
   "nbconvert_exporter": "python",
   "pygments_lexer": "ipython3",
   "version": "3.10.4"
  },
  "orig_nbformat": 4,
  "vscode": {
   "interpreter": {
    "hash": "9678ed7ea4b269329afd329694b38e4e0d862bc6ec83d46e03da15913322d4f3"
   }
  }
 },
 "nbformat": 4,
 "nbformat_minor": 2
}
